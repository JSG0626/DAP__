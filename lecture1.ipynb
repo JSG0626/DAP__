{
  "nbformat": 4,
  "nbformat_minor": 0,
  "metadata": {
    "colab": {
      "provenance": [],
      "name": "lecture1.ipynb",
      "collapsed_sections": [],
      "authorship_tag": "ABX9TyMLicuIbKH5on1wJtIrX/Fb",
      "include_colab_link": true
    },
    "kernelspec": {
      "name": "python3",
      "display_name": "Python 3"
    },
    "language_info": {
      "name": "python"
    }
  },
  "cells": [
    {
      "cell_type": "markdown",
      "metadata": {
        "id": "view-in-github",
        "colab_type": "text"
      },
      "source": [
        "<a href=\"https://colab.research.google.com/github/JSG0626/DAP__/blob/main/lecture1.ipynb\" target=\"_parent\"><img src=\"https://colab.research.google.com/assets/colab-badge.svg\" alt=\"Open In Colab\"/></a>"
      ]
    },
    {
      "cell_type": "code",
      "execution_count": null,
      "metadata": {
        "id": "tXJWUJBn9pQv"
      },
      "outputs": [],
      "source": [
        "import numpy as np\n",
        "import pandas as pd\n",
        "import scipy\n",
        "import matplotlib\n",
        "import seaborn as sns\n",
        "import sklearn"
      ]
    },
    {
      "cell_type": "code",
      "source": [
        "!pip install numpy"
      ],
      "metadata": {
        "colab": {
          "base_uri": "https://localhost:8080/"
        },
        "id": "UOsgJIaJ8F9t",
        "outputId": "6c5b5013-bd2b-457a-8adc-26af6dd01554"
      },
      "execution_count": null,
      "outputs": [
        {
          "output_type": "stream",
          "name": "stdout",
          "text": [
            "Looking in indexes: https://pypi.org/simple, https://us-python.pkg.dev/colab-wheels/public/simple/\n",
            "Requirement already satisfied: numpy in /usr/local/lib/python3.7/dist-packages (1.21.6)\n"
          ]
        }
      ]
    },
    {
      "cell_type": "code",
      "source": [
        "print(f'numpy version: {np.__version__}')\n",
        "print(f'pandas version: {pd.__version__}')\n",
        "print(f'scipy version: {scipy.__version__}')\n",
        "print(f'matplotlib version: {matplotlib.__version__}')\n",
        "print(f'seaborn version: {sns.__version__}')\n",
        "print(f'sklearn version: {sklearn.__version__}')\n"
      ],
      "metadata": {
        "colab": {
          "base_uri": "https://localhost:8080/"
        },
        "id": "Xhfc2vDV8T5u",
        "outputId": "d89e0897-68ae-466c-ad0a-3f16002bd4e4"
      },
      "execution_count": null,
      "outputs": [
        {
          "output_type": "stream",
          "name": "stdout",
          "text": [
            "numpy version: 1.21.6\n",
            "pandas version: 1.3.5\n",
            "scipy version: 1.7.3\n",
            "matplotlib version: 3.2.2\n",
            "seaborn version: 0.11.2\n",
            "sklearn version: 1.0.2\n"
          ]
        }
      ]
    }
  ]
}