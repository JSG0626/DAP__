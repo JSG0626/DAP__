{
  "nbformat": 4,
  "nbformat_minor": 0,
  "metadata": {
    "colab": {
      "provenance": [],
      "collapsed_sections": [],
      "include_colab_link": true
    },
    "kernelspec": {
      "name": "python3",
      "display_name": "Python 3"
    },
    "language_info": {
      "name": "python"
    }
  },
  "cells": [
    {
      "cell_type": "markdown",
      "metadata": {
        "id": "view-in-github",
        "colab_type": "text"
      },
      "source": [
        "<a href=\"https://colab.research.google.com/github/JSG0626/DAP__/blob/main/lecture4_ipynb%EC%9D%98_%EC%82%AC%EB%B3%B8.ipynb\" target=\"_parent\"><img src=\"https://colab.research.google.com/assets/colab-badge.svg\" alt=\"Open In Colab\"/></a>"
      ]
    },
    {
      "cell_type": "code",
      "metadata": {
        "id": "HQS2UZY1bFnh"
      },
      "source": [
        "import numpy as np\n",
        "import pandas as pd\n",
        "import seaborn as sns\n",
        "import plotly.express as px\n",
        "import matplotlib.pyplot as plt"
      ],
      "execution_count": null,
      "outputs": []
    },
    {
      "cell_type": "markdown",
      "metadata": {
        "id": "CRu9j1LVbm67"
      },
      "source": [
        "# Cars93 data\n",
        "In this lab, we would like to explore data about 93 number of vehicles."
      ]
    },
    {
      "cell_type": "code",
      "metadata": {
        "colab": {
          "base_uri": "https://localhost:8080/",
          "height": 386
        },
        "id": "XURptut9Y0Au",
        "outputId": "e65af906-e617-4750-db5c-d851e8389730"
      },
      "source": [
        "df = pd.read_csv('https://raw.githubusercontent.com/selva86/datasets/master/Cars93_miss.csv')\n",
        "df.head()"
      ],
      "execution_count": null,
      "outputs": [
        {
          "output_type": "execute_result",
          "data": {
            "text/plain": [
              "  Manufacturer    Model     Type  Min.Price  Price  Max.Price  MPG.city  \\\n",
              "0        Acura  Integra    Small       12.9   15.9       18.8      25.0   \n",
              "1          NaN   Legend  Midsize       29.2   33.9       38.7      18.0   \n",
              "2         Audi       90  Compact       25.9   29.1       32.3      20.0   \n",
              "3         Audi      100  Midsize        NaN   37.7       44.6      19.0   \n",
              "4          BMW     535i  Midsize        NaN   30.0        NaN      22.0   \n",
              "\n",
              "   MPG.highway             AirBags DriveTrain  ... Passengers  Length  \\\n",
              "0         31.0                None      Front  ...        5.0   177.0   \n",
              "1         25.0  Driver & Passenger      Front  ...        5.0   195.0   \n",
              "2         26.0         Driver only      Front  ...        5.0   180.0   \n",
              "3         26.0  Driver & Passenger        NaN  ...        6.0   193.0   \n",
              "4         30.0                 NaN       Rear  ...        4.0   186.0   \n",
              "\n",
              "   Wheelbase  Width  Turn.circle Rear.seat.room  Luggage.room  Weight  \\\n",
              "0      102.0   68.0         37.0           26.5           NaN  2705.0   \n",
              "1      115.0   71.0         38.0           30.0          15.0  3560.0   \n",
              "2      102.0   67.0         37.0           28.0          14.0  3375.0   \n",
              "3      106.0    NaN         37.0           31.0          17.0  3405.0   \n",
              "4      109.0   69.0         39.0           27.0          13.0  3640.0   \n",
              "\n",
              "    Origin           Make  \n",
              "0  non-USA  Acura Integra  \n",
              "1  non-USA   Acura Legend  \n",
              "2  non-USA        Audi 90  \n",
              "3  non-USA       Audi 100  \n",
              "4  non-USA       BMW 535i  \n",
              "\n",
              "[5 rows x 27 columns]"
            ],
            "text/html": [
              "\n",
              "  <div id=\"df-0fc8c562-d1c8-4707-bde8-1ba64477f341\">\n",
              "    <div class=\"colab-df-container\">\n",
              "      <div>\n",
              "<style scoped>\n",
              "    .dataframe tbody tr th:only-of-type {\n",
              "        vertical-align: middle;\n",
              "    }\n",
              "\n",
              "    .dataframe tbody tr th {\n",
              "        vertical-align: top;\n",
              "    }\n",
              "\n",
              "    .dataframe thead th {\n",
              "        text-align: right;\n",
              "    }\n",
              "</style>\n",
              "<table border=\"1\" class=\"dataframe\">\n",
              "  <thead>\n",
              "    <tr style=\"text-align: right;\">\n",
              "      <th></th>\n",
              "      <th>Manufacturer</th>\n",
              "      <th>Model</th>\n",
              "      <th>Type</th>\n",
              "      <th>Min.Price</th>\n",
              "      <th>Price</th>\n",
              "      <th>Max.Price</th>\n",
              "      <th>MPG.city</th>\n",
              "      <th>MPG.highway</th>\n",
              "      <th>AirBags</th>\n",
              "      <th>DriveTrain</th>\n",
              "      <th>...</th>\n",
              "      <th>Passengers</th>\n",
              "      <th>Length</th>\n",
              "      <th>Wheelbase</th>\n",
              "      <th>Width</th>\n",
              "      <th>Turn.circle</th>\n",
              "      <th>Rear.seat.room</th>\n",
              "      <th>Luggage.room</th>\n",
              "      <th>Weight</th>\n",
              "      <th>Origin</th>\n",
              "      <th>Make</th>\n",
              "    </tr>\n",
              "  </thead>\n",
              "  <tbody>\n",
              "    <tr>\n",
              "      <th>0</th>\n",
              "      <td>Acura</td>\n",
              "      <td>Integra</td>\n",
              "      <td>Small</td>\n",
              "      <td>12.9</td>\n",
              "      <td>15.9</td>\n",
              "      <td>18.8</td>\n",
              "      <td>25.0</td>\n",
              "      <td>31.0</td>\n",
              "      <td>None</td>\n",
              "      <td>Front</td>\n",
              "      <td>...</td>\n",
              "      <td>5.0</td>\n",
              "      <td>177.0</td>\n",
              "      <td>102.0</td>\n",
              "      <td>68.0</td>\n",
              "      <td>37.0</td>\n",
              "      <td>26.5</td>\n",
              "      <td>NaN</td>\n",
              "      <td>2705.0</td>\n",
              "      <td>non-USA</td>\n",
              "      <td>Acura Integra</td>\n",
              "    </tr>\n",
              "    <tr>\n",
              "      <th>1</th>\n",
              "      <td>NaN</td>\n",
              "      <td>Legend</td>\n",
              "      <td>Midsize</td>\n",
              "      <td>29.2</td>\n",
              "      <td>33.9</td>\n",
              "      <td>38.7</td>\n",
              "      <td>18.0</td>\n",
              "      <td>25.0</td>\n",
              "      <td>Driver &amp; Passenger</td>\n",
              "      <td>Front</td>\n",
              "      <td>...</td>\n",
              "      <td>5.0</td>\n",
              "      <td>195.0</td>\n",
              "      <td>115.0</td>\n",
              "      <td>71.0</td>\n",
              "      <td>38.0</td>\n",
              "      <td>30.0</td>\n",
              "      <td>15.0</td>\n",
              "      <td>3560.0</td>\n",
              "      <td>non-USA</td>\n",
              "      <td>Acura Legend</td>\n",
              "    </tr>\n",
              "    <tr>\n",
              "      <th>2</th>\n",
              "      <td>Audi</td>\n",
              "      <td>90</td>\n",
              "      <td>Compact</td>\n",
              "      <td>25.9</td>\n",
              "      <td>29.1</td>\n",
              "      <td>32.3</td>\n",
              "      <td>20.0</td>\n",
              "      <td>26.0</td>\n",
              "      <td>Driver only</td>\n",
              "      <td>Front</td>\n",
              "      <td>...</td>\n",
              "      <td>5.0</td>\n",
              "      <td>180.0</td>\n",
              "      <td>102.0</td>\n",
              "      <td>67.0</td>\n",
              "      <td>37.0</td>\n",
              "      <td>28.0</td>\n",
              "      <td>14.0</td>\n",
              "      <td>3375.0</td>\n",
              "      <td>non-USA</td>\n",
              "      <td>Audi 90</td>\n",
              "    </tr>\n",
              "    <tr>\n",
              "      <th>3</th>\n",
              "      <td>Audi</td>\n",
              "      <td>100</td>\n",
              "      <td>Midsize</td>\n",
              "      <td>NaN</td>\n",
              "      <td>37.7</td>\n",
              "      <td>44.6</td>\n",
              "      <td>19.0</td>\n",
              "      <td>26.0</td>\n",
              "      <td>Driver &amp; Passenger</td>\n",
              "      <td>NaN</td>\n",
              "      <td>...</td>\n",
              "      <td>6.0</td>\n",
              "      <td>193.0</td>\n",
              "      <td>106.0</td>\n",
              "      <td>NaN</td>\n",
              "      <td>37.0</td>\n",
              "      <td>31.0</td>\n",
              "      <td>17.0</td>\n",
              "      <td>3405.0</td>\n",
              "      <td>non-USA</td>\n",
              "      <td>Audi 100</td>\n",
              "    </tr>\n",
              "    <tr>\n",
              "      <th>4</th>\n",
              "      <td>BMW</td>\n",
              "      <td>535i</td>\n",
              "      <td>Midsize</td>\n",
              "      <td>NaN</td>\n",
              "      <td>30.0</td>\n",
              "      <td>NaN</td>\n",
              "      <td>22.0</td>\n",
              "      <td>30.0</td>\n",
              "      <td>NaN</td>\n",
              "      <td>Rear</td>\n",
              "      <td>...</td>\n",
              "      <td>4.0</td>\n",
              "      <td>186.0</td>\n",
              "      <td>109.0</td>\n",
              "      <td>69.0</td>\n",
              "      <td>39.0</td>\n",
              "      <td>27.0</td>\n",
              "      <td>13.0</td>\n",
              "      <td>3640.0</td>\n",
              "      <td>non-USA</td>\n",
              "      <td>BMW 535i</td>\n",
              "    </tr>\n",
              "  </tbody>\n",
              "</table>\n",
              "<p>5 rows × 27 columns</p>\n",
              "</div>\n",
              "      <button class=\"colab-df-convert\" onclick=\"convertToInteractive('df-0fc8c562-d1c8-4707-bde8-1ba64477f341')\"\n",
              "              title=\"Convert this dataframe to an interactive table.\"\n",
              "              style=\"display:none;\">\n",
              "        \n",
              "  <svg xmlns=\"http://www.w3.org/2000/svg\" height=\"24px\"viewBox=\"0 0 24 24\"\n",
              "       width=\"24px\">\n",
              "    <path d=\"M0 0h24v24H0V0z\" fill=\"none\"/>\n",
              "    <path d=\"M18.56 5.44l.94 2.06.94-2.06 2.06-.94-2.06-.94-.94-2.06-.94 2.06-2.06.94zm-11 1L8.5 8.5l.94-2.06 2.06-.94-2.06-.94L8.5 2.5l-.94 2.06-2.06.94zm10 10l.94 2.06.94-2.06 2.06-.94-2.06-.94-.94-2.06-.94 2.06-2.06.94z\"/><path d=\"M17.41 7.96l-1.37-1.37c-.4-.4-.92-.59-1.43-.59-.52 0-1.04.2-1.43.59L10.3 9.45l-7.72 7.72c-.78.78-.78 2.05 0 2.83L4 21.41c.39.39.9.59 1.41.59.51 0 1.02-.2 1.41-.59l7.78-7.78 2.81-2.81c.8-.78.8-2.07 0-2.86zM5.41 20L4 18.59l7.72-7.72 1.47 1.35L5.41 20z\"/>\n",
              "  </svg>\n",
              "      </button>\n",
              "      \n",
              "  <style>\n",
              "    .colab-df-container {\n",
              "      display:flex;\n",
              "      flex-wrap:wrap;\n",
              "      gap: 12px;\n",
              "    }\n",
              "\n",
              "    .colab-df-convert {\n",
              "      background-color: #E8F0FE;\n",
              "      border: none;\n",
              "      border-radius: 50%;\n",
              "      cursor: pointer;\n",
              "      display: none;\n",
              "      fill: #1967D2;\n",
              "      height: 32px;\n",
              "      padding: 0 0 0 0;\n",
              "      width: 32px;\n",
              "    }\n",
              "\n",
              "    .colab-df-convert:hover {\n",
              "      background-color: #E2EBFA;\n",
              "      box-shadow: 0px 1px 2px rgba(60, 64, 67, 0.3), 0px 1px 3px 1px rgba(60, 64, 67, 0.15);\n",
              "      fill: #174EA6;\n",
              "    }\n",
              "\n",
              "    [theme=dark] .colab-df-convert {\n",
              "      background-color: #3B4455;\n",
              "      fill: #D2E3FC;\n",
              "    }\n",
              "\n",
              "    [theme=dark] .colab-df-convert:hover {\n",
              "      background-color: #434B5C;\n",
              "      box-shadow: 0px 1px 3px 1px rgba(0, 0, 0, 0.15);\n",
              "      filter: drop-shadow(0px 1px 2px rgba(0, 0, 0, 0.3));\n",
              "      fill: #FFFFFF;\n",
              "    }\n",
              "  </style>\n",
              "\n",
              "      <script>\n",
              "        const buttonEl =\n",
              "          document.querySelector('#df-0fc8c562-d1c8-4707-bde8-1ba64477f341 button.colab-df-convert');\n",
              "        buttonEl.style.display =\n",
              "          google.colab.kernel.accessAllowed ? 'block' : 'none';\n",
              "\n",
              "        async function convertToInteractive(key) {\n",
              "          const element = document.querySelector('#df-0fc8c562-d1c8-4707-bde8-1ba64477f341');\n",
              "          const dataTable =\n",
              "            await google.colab.kernel.invokeFunction('convertToInteractive',\n",
              "                                                     [key], {});\n",
              "          if (!dataTable) return;\n",
              "\n",
              "          const docLinkHtml = 'Like what you see? Visit the ' +\n",
              "            '<a target=\"_blank\" href=https://colab.research.google.com/notebooks/data_table.ipynb>data table notebook</a>'\n",
              "            + ' to learn more about interactive tables.';\n",
              "          element.innerHTML = '';\n",
              "          dataTable['output_type'] = 'display_data';\n",
              "          await google.colab.output.renderOutput(dataTable, element);\n",
              "          const docLink = document.createElement('div');\n",
              "          docLink.innerHTML = docLinkHtml;\n",
              "          element.appendChild(docLink);\n",
              "        }\n",
              "      </script>\n",
              "    </div>\n",
              "  </div>\n",
              "  "
            ]
          },
          "metadata": {},
          "execution_count": 66
        }
      ]
    },
    {
      "cell_type": "markdown",
      "metadata": {
        "id": "gGdixnTAY2B4"
      },
      "source": [
        "## Matplotlib\n",
        "Please refer the [official doc](https://matplotlib.org/) or following [article](https://www.machinelearningplus.com/plots/matplotlib-tutorial-complete-guide-python-plot-examples/) for further detailed tricks."
      ]
    },
    {
      "cell_type": "markdown",
      "source": [
        "### Line-plot\n",
        "Draw a line-plot for the age-specific height averages for men and women\n",
        "\n",
        "- Men are represented in blue and women in red\n",
        "- Use x_label() and y_label(), title(), and legend() to draw\n",
        "- Use xticks() to separate the intervals on the x-axis graph"
      ],
      "metadata": {
        "id": "AFEVZEKRFYxO"
      }
    },
    {
      "cell_type": "code",
      "source": [
        "# Male Data\n",
        "x = [20,30,40,50,60]\n",
        "y = [174.4, 174.9, 173.2, 170.5, 168.3]\n",
        "\n",
        "plt.plot(x, y, label = 'men', color = 'blue')\n",
        "\n",
        "# Female Data\n",
        "x = [20,30,40,50,60]\n",
        "y = [161.3, 161.9, 160.5, 157.6, 155.4]\n",
        "\n",
        "plt.plot(x, y, label = 'women', color = 'red')\n",
        "# Sepsarate x \n",
        "plt.xticks(np.arange(20,70,10))\n",
        "\n",
        "# Draw\n",
        "plt.xlabel(\"age\")\n",
        "plt.ylabel(\"height\")\n",
        "plt.title(\"Comparison of heights by age of men ans women\")\n",
        "plt.legend()\n",
        "\n",
        "plt.show()"
      ],
      "metadata": {
        "colab": {
          "base_uri": "https://localhost:8080/",
          "height": 295
        },
        "id": "qxmCNDM3FXLH",
        "outputId": "ed274edf-a265-4af4-aa22-d9b93ce8a651"
      },
      "execution_count": null,
      "outputs": [
        {
          "output_type": "display_data",
          "data": {
            "text/plain": [
              "<Figure size 432x288 with 1 Axes>"
            ],
            "image/png": "[encoded data removed]"
          },
          "metadata": {
            "needs_background": "light"
          }
        }
      ]
    },
    {
      "cell_type": "markdown",
      "source": [
        "###Histogram Plot with Barplot\n",
        "Draw the horsepower mean by type\n",
        "\n",
        "- df_sample should contain only `Type` and `Horsepower` properties\n",
        "- Drop the `NAN` value"
      ],
      "metadata": {
        "id": "vWzP080x7JDF"
      }
    },
    {
      "cell_type": "markdown",
      "source": [
        "Returns all the number of times for each value in the `Type` \n"
      ],
      "metadata": {
        "id": "OpIooN5hCEik"
      }
    },
    {
      "cell_type": "code",
      "source": [
        "df['Type'].value_counts()"
      ],
      "metadata": {
        "colab": {
          "base_uri": "https://localhost:8080/"
        },
        "id": "IayJSXko7OtX",
        "outputId": "bc872953-435c-4cab-d0a9-727ed9278d23"
      },
      "execution_count": null,
      "outputs": [
        {
          "output_type": "execute_result",
          "data": {
            "text/plain": [
              "Midsize    22\n",
              "Small      20\n",
              "Compact    16\n",
              "Sporty     12\n",
              "Large      11\n",
              "Van         9\n",
              "Name: Type, dtype: int64"
            ]
          },
          "metadata": {},
          "execution_count": 68
        }
      ]
    },
    {
      "cell_type": "markdown",
      "source": [
        "Use barh() to draw the histogram by `Type`\n"
      ],
      "metadata": {
        "id": "0CmCP-4HC2U2"
      }
    },
    {
      "cell_type": "code",
      "source": [
        "# Draw plot\n",
        "plt.barh(df['Type'].value_counts().index, df['Type'].value_counts().values)\n",
        "plt.title('Average of Horsepower by Type')\n",
        "plt.xlabel('Mean')\n",
        "plt.ylabel('Type')"
      ],
      "metadata": {
        "colab": {
          "base_uri": "https://localhost:8080/",
          "height": 313
        },
        "id": "rFG6lw8o7pj5",
        "outputId": "b8e33ea3-2e7e-409b-d060-21309b1fba62"
      },
      "execution_count": null,
      "outputs": [
        {
          "output_type": "execute_result",
          "data": {
            "text/plain": [
              "Text(0, 0.5, 'Type')"
            ]
          },
          "metadata": {},
          "execution_count": 69
        },
        {
          "output_type": "display_data",
          "data": {
            "text/plain": [
              "<Figure size 432x288 with 1 Axes>"
            ],
            "image/png": "[encoded data removed]"
          },
          "metadata": {
            "needs_background": "light"
          }
        }
      ]
    },
    {
      "cell_type": "markdown",
      "source": [
        "### Pie Plot\n",
        "\n",
        "Draw *pie chart* of `Type` (hint, refer pandas'  [`.value_counts`](https://pandas.pydata.org/pandas-docs/stable/reference/api/pandas.Series.value_counts.html) method and the [article](https://medium.com/@kvnamipara/a-better-visualisation-of-pie-charts-by-matplotlib-935b7667d77f) about *pie chart*).\n",
        "Please give the `startangle` option to 30\n",
        "\n",
        "- Use `autopct` to represent decimal places"
      ],
      "metadata": {
        "id": "BdXkcFThD7Op"
      }
    },
    {
      "cell_type": "code",
      "source": [
        "typeCount = df['Type'].value_counts(normalize=True)\n",
        "# typeCount\n",
        "fig, ax = plt.subplots(figsize=(6,6))\n",
        "\n",
        "# Draw!!\n",
        "ax.pie(\n",
        "      typeCount,\n",
        "       labels = typeCount.index,\n",
        "       autopct = '%1.1f%%',\n",
        "       startangle = 30\n",
        "    )\n",
        "\n",
        "plt.show()"
      ],
      "metadata": {
        "colab": {
          "base_uri": "https://localhost:8080/",
          "height": 357
        },
        "id": "C6ibEj1wD3qZ",
        "outputId": "702c5653-0f13-45c3-eff7-e9f895344976"
      },
      "execution_count": null,
      "outputs": [
        {
          "output_type": "display_data",
          "data": {
            "text/plain": [
              "<Figure size 432x432 with 1 Axes>"
            ],
            "image/png": "[encoded data removed]"
          },
          "metadata": {}
        }
      ]
    },
    {
      "cell_type": "markdown",
      "metadata": {
        "id": "zo0NPo0dySM_"
      },
      "source": [
        "## Seaborn\n",
        "Please refer the [official doc](https://seaborn.pydata.org/)."
      ]
    },
    {
      "cell_type": "markdown",
      "metadata": {
        "id": "P3-cBELIytAp"
      },
      "source": [
        "### Boxplot\n",
        "Plot *boxplot* which comparing the `Price` according to `Manufacturer`. The plot must satisify following conditions.\n",
        " * nested grouping within additional categorical variable, `Origin`\n",
        " * using `Blues` color palette\n"
      ]
    },
    {
      "cell_type": "code",
      "metadata": {
        "colab": {
          "base_uri": "https://localhost:8080/",
          "height": 269
        },
        "id": "AOi3qiCtyYFf",
        "outputId": "18937cf8-f7e1-46d1-f661-0235923406d4"
      },
      "source": [
        "fig, ax = plt.subplots(figsize=(31,8))\n",
        "sns.boxplot(data = df, x = 'Manufacturer', y = 'Price', palette = 'Blues', hue = 'Origin')\n",
        "\n",
        "plt.show()"
      ],
      "execution_count": null,
      "outputs": [
        {
          "output_type": "display_data",
          "data": {
            "text/plain": [
              "<Figure size 2232x576 with 1 Axes>"
            ],
            "image/png": "[encoded data removed]"
          },
          "metadata": {
            "needs_background": "light"
          }
        }
      ]
    },
    {
      "cell_type": "markdown",
      "source": [
        "### Heatmap and Pairplot\n",
        "This part brought the correlation problem that was dealt with in the previous practice problem. Please refer `lecture3.ipynb`"
      ],
      "metadata": {
        "id": "3yQX3EBGZeq0"
      }
    },
    {
      "cell_type": "markdown",
      "source": [
        "- Select `Price`,`Horsepower`, `Passengers`, `Length`, `Weight`\n",
        "- Put this in the `df`\n",
        "- Use the `pearson` method to obtain the correlation value\n"
      ],
      "metadata": {
        "id": "aNPn5XvOYD7W"
      }
    },
    {
      "cell_type": "code",
      "source": [
        "targetVar = ['Price', 'Horsepower', 'Passengers', 'Length', 'Weight']\n",
        "selectedDataFrame = df[targetVar]\n",
        "corr = selectedDataFrame.corr(method='pearson')\n",
        "corr"
      ],
      "metadata": {
        "colab": {
          "base_uri": "https://localhost:8080/",
          "height": 206
        },
        "id": "f4R2w7_-HBYS",
        "outputId": "c9c50489-11e8-4371-ff02-a016cbff7b15"
      },
      "execution_count": null,
      "outputs": [
        {
          "output_type": "execute_result",
          "data": {
            "text/plain": [
              "               Price  Horsepower  Passengers    Length    Weight\n",
              "Price       1.000000    0.794607    0.040890  0.564704  0.642563\n",
              "Horsepower  0.794607    1.000000   -0.039870  0.552906  0.777764\n",
              "Passengers  0.040890   -0.039870    1.000000  0.473748  0.577401\n",
              "Length      0.564704    0.552906    0.473748  1.000000  0.813305\n",
              "Weight      0.642563    0.777764    0.577401  0.813305  1.000000"
            ],
            "text/html": [
              "\n",
              "  <div id=\"df-14f4f0a3-3e19-414f-a00e-e3578e576543\">\n",
              "    <div class=\"colab-df-container\">\n",
              "      <div>\n",
              "<style scoped>\n",
              "    .dataframe tbody tr th:only-of-type {\n",
              "        vertical-align: middle;\n",
              "    }\n",
              "\n",
              "    .dataframe tbody tr th {\n",
              "        vertical-align: top;\n",
              "    }\n",
              "\n",
              "    .dataframe thead th {\n",
              "        text-align: right;\n",
              "    }\n",
              "</style>\n",
              "<table border=\"1\" class=\"dataframe\">\n",
              "  <thead>\n",
              "    <tr style=\"text-align: right;\">\n",
              "      <th></th>\n",
              "      <th>Price</th>\n",
              "      <th>Horsepower</th>\n",
              "      <th>Passengers</th>\n",
              "      <th>Length</th>\n",
              "      <th>Weight</th>\n",
              "    </tr>\n",
              "  </thead>\n",
              "  <tbody>\n",
              "    <tr>\n",
              "      <th>Price</th>\n",
              "      <td>1.000000</td>\n",
              "      <td>0.794607</td>\n",
              "      <td>0.040890</td>\n",
              "      <td>0.564704</td>\n",
              "      <td>0.642563</td>\n",
              "    </tr>\n",
              "    <tr>\n",
              "      <th>Horsepower</th>\n",
              "      <td>0.794607</td>\n",
              "      <td>1.000000</td>\n",
              "      <td>-0.039870</td>\n",
              "      <td>0.552906</td>\n",
              "      <td>0.777764</td>\n",
              "    </tr>\n",
              "    <tr>\n",
              "      <th>Passengers</th>\n",
              "      <td>0.040890</td>\n",
              "      <td>-0.039870</td>\n",
              "      <td>1.000000</td>\n",
              "      <td>0.473748</td>\n",
              "      <td>0.577401</td>\n",
              "    </tr>\n",
              "    <tr>\n",
              "      <th>Length</th>\n",
              "      <td>0.564704</td>\n",
              "      <td>0.552906</td>\n",
              "      <td>0.473748</td>\n",
              "      <td>1.000000</td>\n",
              "      <td>0.813305</td>\n",
              "    </tr>\n",
              "    <tr>\n",
              "      <th>Weight</th>\n",
              "      <td>0.642563</td>\n",
              "      <td>0.777764</td>\n",
              "      <td>0.577401</td>\n",
              "      <td>0.813305</td>\n",
              "      <td>1.000000</td>\n",
              "    </tr>\n",
              "  </tbody>\n",
              "</table>\n",
              "</div>\n",
              "      <button class=\"colab-df-convert\" onclick=\"convertToInteractive('df-14f4f0a3-3e19-414f-a00e-e3578e576543')\"\n",
              "              title=\"Convert this dataframe to an interactive table.\"\n",
              "              style=\"display:none;\">\n",
              "        \n",
              "  <svg xmlns=\"http://www.w3.org/2000/svg\" height=\"24px\"viewBox=\"0 0 24 24\"\n",
              "       width=\"24px\">\n",
              "    <path d=\"M0 0h24v24H0V0z\" fill=\"none\"/>\n",
              "    <path d=\"M18.56 5.44l.94 2.06.94-2.06 2.06-.94-2.06-.94-.94-2.06-.94 2.06-2.06.94zm-11 1L8.5 8.5l.94-2.06 2.06-.94-2.06-.94L8.5 2.5l-.94 2.06-2.06.94zm10 10l.94 2.06.94-2.06 2.06-.94-2.06-.94-.94-2.06-.94 2.06-2.06.94z\"/><path d=\"M17.41 7.96l-1.37-1.37c-.4-.4-.92-.59-1.43-.59-.52 0-1.04.2-1.43.59L10.3 9.45l-7.72 7.72c-.78.78-.78 2.05 0 2.83L4 21.41c.39.39.9.59 1.41.59.51 0 1.02-.2 1.41-.59l7.78-7.78 2.81-2.81c.8-.78.8-2.07 0-2.86zM5.41 20L4 18.59l7.72-7.72 1.47 1.35L5.41 20z\"/>\n",
              "  </svg>\n",
              "      </button>\n",
              "      \n",
              "  <style>\n",
              "    .colab-df-container {\n",
              "      display:flex;\n",
              "      flex-wrap:wrap;\n",
              "      gap: 12px;\n",
              "    }\n",
              "\n",
              "    .colab-df-convert {\n",
              "      background-color: #E8F0FE;\n",
              "      border: none;\n",
              "      border-radius: 50%;\n",
              "      cursor: pointer;\n",
              "      display: none;\n",
              "      fill: #1967D2;\n",
              "      height: 32px;\n",
              "      padding: 0 0 0 0;\n",
              "      width: 32px;\n",
              "    }\n",
              "\n",
              "    .colab-df-convert:hover {\n",
              "      background-color: #E2EBFA;\n",
              "      box-shadow: 0px 1px 2px rgba(60, 64, 67, 0.3), 0px 1px 3px 1px rgba(60, 64, 67, 0.15);\n",
              "      fill: #174EA6;\n",
              "    }\n",
              "\n",
              "    [theme=dark] .colab-df-convert {\n",
              "      background-color: #3B4455;\n",
              "      fill: #D2E3FC;\n",
              "    }\n",
              "\n",
              "    [theme=dark] .colab-df-convert:hover {\n",
              "      background-color: #434B5C;\n",
              "      box-shadow: 0px 1px 3px 1px rgba(0, 0, 0, 0.15);\n",
              "      filter: drop-shadow(0px 1px 2px rgba(0, 0, 0, 0.3));\n",
              "      fill: #FFFFFF;\n",
              "    }\n",
              "  </style>\n",
              "\n",
              "      <script>\n",
              "        const buttonEl =\n",
              "          document.querySelector('#df-14f4f0a3-3e19-414f-a00e-e3578e576543 button.colab-df-convert');\n",
              "        buttonEl.style.display =\n",
              "          google.colab.kernel.accessAllowed ? 'block' : 'none';\n",
              "\n",
              "        async function convertToInteractive(key) {\n",
              "          const element = document.querySelector('#df-14f4f0a3-3e19-414f-a00e-e3578e576543');\n",
              "          const dataTable =\n",
              "            await google.colab.kernel.invokeFunction('convertToInteractive',\n",
              "                                                     [key], {});\n",
              "          if (!dataTable) return;\n",
              "\n",
              "          const docLinkHtml = 'Like what you see? Visit the ' +\n",
              "            '<a target=\"_blank\" href=https://colab.research.google.com/notebooks/data_table.ipynb>data table notebook</a>'\n",
              "            + ' to learn more about interactive tables.';\n",
              "          element.innerHTML = '';\n",
              "          dataTable['output_type'] = 'display_data';\n",
              "          await google.colab.output.renderOutput(dataTable, element);\n",
              "          const docLink = document.createElement('div');\n",
              "          docLink.innerHTML = docLinkHtml;\n",
              "          element.appendChild(docLink);\n",
              "        }\n",
              "      </script>\n",
              "    </div>\n",
              "  </div>\n",
              "  "
            ]
          },
          "metadata": {},
          "execution_count": 72
        }
      ]
    },
    {
      "cell_type": "markdown",
      "source": [
        "Make *heatmap*!\n",
        "- Make it the `4th` decimal place\n",
        "- Set the color to `bone_r`"
      ],
      "metadata": {
        "id": "9qGFQDPiZO6N"
      }
    },
    {
      "cell_type": "code",
      "source": [
        "ax = sns.heatmap(corr, annot = True, fmt = \".4f\", cmap = 'bone_r')"
      ],
      "metadata": {
        "colab": {
          "base_uri": "https://localhost:8080/",
          "height": 319
        },
        "id": "IJmv8HZtA9x2",
        "outputId": "e5bb5c99-36b0-4e71-e230-26a0bf2cbde3"
      },
      "execution_count": null,
      "outputs": [
        {
          "output_type": "display_data",
          "data": {
            "text/plain": [
              "<Figure size 432x288 with 2 Axes>"
            ],
            "image/png": "[encoded data removed]"
          },
          "metadata": {
            "needs_background": "light"
          }
        }
      ]
    },
    {
      "cell_type": "markdown",
      "source": [
        "Plot *pair plot*. The plot must satisify following conditions.\n",
        "\n",
        "- Create a pair plot using the `targetvar` value above \n",
        "- Put the corr value in the pair plot in `text format`!"
      ],
      "metadata": {
        "id": "54h6a-WeZvMG"
      }
    },
    {
      "cell_type": "code",
      "metadata": {
        "id": "lnhm-HQs2ASf",
        "colab": {
          "base_uri": "https://localhost:8080/",
          "height": 903
        },
        "outputId": "b70447c4-00b5-4723-9536-b62ecf389320"
      },
      "source": [
        "g = sns.pairplot(selectedDataFrame)\n",
        "\n",
        "corrValue = corr.to_numpy()\n",
        "for i, (ax, cv) in enumerate(zip(g.axes.flat, corrValue.flatten())):\n",
        "   ax.text(0.4, 0.8, f\"Corr : {cv:.4f}\", fontsize = 9,\n",
        "           horizontalalignment = \"left\", verticalalignment=\"top\",\n",
        "           transform = ax.transAxes)\n",
        "\n",
        "plt.show()"
      ],
      "execution_count": null,
      "outputs": [
        {
          "output_type": "display_data",
          "data": {
            "text/plain": [
              "<Figure size 900x900 with 30 Axes>"
            ],
            "image/png": "[encoded data removed]"
          },
          "metadata": {
            "needs_background": "light"
          }
        }
      ]
    },
    {
      "cell_type": "markdown",
      "metadata": {
        "id": "-rvzvY_z9Oau"
      },
      "source": [
        "# Plotly"
      ]
    },
    {
      "cell_type": "markdown",
      "metadata": {
        "id": "Z_kiQ470FuB0"
      },
      "source": [
        "### Density contour plot\n",
        "Plot *density contour plot* and deploy the dashboard.\n",
        "* The *density contour plot* should show relationship between `Price` and user choosen variable among `MPG.city`, `MPG.highway`, `Rev.per.mile`.\n",
        "\n",
        "(please refer [official doc](https://plotly.com/python/2d-histogram-contour/) about *density contour plot*)\n"
      ]
    },
    {
      "cell_type": "code",
      "metadata": {
        "id": "6Cybz3WK9j1j",
        "colab": {
          "base_uri": "https://localhost:8080/"
        },
        "outputId": "55655e0a-b3b8-407b-b632-8531bded367b"
      },
      "source": [
        "# install packages\n",
        "!pip install dash\n",
        "!pip install jupyter_dash"
      ],
      "execution_count": null,
      "outputs": [
        {
          "output_type": "stream",
          "name": "stdout",
          "text": [
            "Looking in indexes: https://pypi.org/simple, https://us-python.pkg.dev/colab-wheels/public/simple/\n",
            "Requirement already satisfied: dash in /usr/local/lib/python3.7/dist-packages (2.6.2)\n",
            "Requirement already satisfied: dash-html-components==2.0.0 in /usr/local/lib/python3.7/dist-packages (from dash) (2.0.0)\n",
            "Requirement already satisfied: dash-core-components==2.0.0 in /usr/local/lib/python3.7/dist-packages (from dash) (2.0.0)\n",
            "Requirement already satisfied: Flask>=1.0.4 in /usr/local/lib/python3.7/dist-packages (from dash) (1.1.4)\n",
            "Requirement already satisfied: flask-compress in /usr/local/lib/python3.7/dist-packages (from dash) (1.13)\n",
            "Requirement already satisfied: dash-table==5.0.0 in /usr/local/lib/python3.7/dist-packages (from dash) (5.0.0)\n",
            "Requirement already satisfied: plotly>=5.0.0 in /usr/local/lib/python3.7/dist-packages (from dash) (5.5.0)\n",
            "Requirement already satisfied: itsdangerous<2.0,>=0.24 in /usr/local/lib/python3.7/dist-packages (from Flask>=1.0.4->dash) (1.1.0)\n",
            "Requirement already satisfied: Jinja2<3.0,>=2.10.1 in /usr/local/lib/python3.7/dist-packages (from Flask>=1.0.4->dash) (2.11.3)\n",
            "Requirement already satisfied: Werkzeug<2.0,>=0.15 in /usr/local/lib/python3.7/dist-packages (from Flask>=1.0.4->dash) (1.0.1)\n",
            "Requirement already satisfied: click<8.0,>=5.1 in /usr/local/lib/python3.7/dist-packages (from Flask>=1.0.4->dash) (7.1.2)\n",
            "Requirement already satisfied: MarkupSafe>=0.23 in /usr/local/lib/python3.7/dist-packages (from Jinja2<3.0,>=2.10.1->Flask>=1.0.4->dash) (2.0.1)\n",
            "Requirement already satisfied: tenacity>=6.2.0 in /usr/local/lib/python3.7/dist-packages (from plotly>=5.0.0->dash) (8.0.1)\n",
            "Requirement already satisfied: six in /usr/local/lib/python3.7/dist-packages (from plotly>=5.0.0->dash) (1.15.0)\n",
            "Requirement already satisfied: brotli in /usr/local/lib/python3.7/dist-packages (from flask-compress->dash) (1.0.9)\n",
            "Looking in indexes: https://pypi.org/simple, https://us-python.pkg.dev/colab-wheels/public/simple/\n",
            "Requirement already satisfied: jupyter_dash in /usr/local/lib/python3.7/dist-packages (0.4.2)\n",
            "Requirement already satisfied: dash in /usr/local/lib/python3.7/dist-packages (from jupyter_dash) (2.6.2)\n",
            "Requirement already satisfied: ansi2html in /usr/local/lib/python3.7/dist-packages (from jupyter_dash) (1.8.0)\n",
            "Requirement already satisfied: ipython in /usr/local/lib/python3.7/dist-packages (from jupyter_dash) (7.9.0)\n",
            "Requirement already satisfied: requests in /usr/local/lib/python3.7/dist-packages (from jupyter_dash) (2.23.0)\n",
            "Requirement already satisfied: retrying in /usr/local/lib/python3.7/dist-packages (from jupyter_dash) (1.3.3)\n",
            "Requirement already satisfied: flask in /usr/local/lib/python3.7/dist-packages (from jupyter_dash) (1.1.4)\n",
            "Requirement already satisfied: ipykernel in /usr/local/lib/python3.7/dist-packages (from jupyter_dash) (5.3.4)\n",
            "Requirement already satisfied: nest-asyncio in /usr/local/lib/python3.7/dist-packages (from jupyter_dash) (1.5.5)\n",
            "Requirement already satisfied: importlib-metadata in /usr/local/lib/python3.7/dist-packages (from ansi2html->jupyter_dash) (4.12.0)\n",
            "Requirement already satisfied: dash-table==5.0.0 in /usr/local/lib/python3.7/dist-packages (from dash->jupyter_dash) (5.0.0)\n",
            "Requirement already satisfied: dash-core-components==2.0.0 in /usr/local/lib/python3.7/dist-packages (from dash->jupyter_dash) (2.0.0)\n",
            "Requirement already satisfied: plotly>=5.0.0 in /usr/local/lib/python3.7/dist-packages (from dash->jupyter_dash) (5.5.0)\n",
            "Requirement already satisfied: flask-compress in /usr/local/lib/python3.7/dist-packages (from dash->jupyter_dash) (1.13)\n",
            "Requirement already satisfied: dash-html-components==2.0.0 in /usr/local/lib/python3.7/dist-packages (from dash->jupyter_dash) (2.0.0)\n",
            "Requirement already satisfied: click<8.0,>=5.1 in /usr/local/lib/python3.7/dist-packages (from flask->jupyter_dash) (7.1.2)\n",
            "Requirement already satisfied: itsdangerous<2.0,>=0.24 in /usr/local/lib/python3.7/dist-packages (from flask->jupyter_dash) (1.1.0)\n",
            "Requirement already satisfied: Jinja2<3.0,>=2.10.1 in /usr/local/lib/python3.7/dist-packages (from flask->jupyter_dash) (2.11.3)\n",
            "Requirement already satisfied: Werkzeug<2.0,>=0.15 in /usr/local/lib/python3.7/dist-packages (from flask->jupyter_dash) (1.0.1)\n",
            "Requirement already satisfied: MarkupSafe>=0.23 in /usr/local/lib/python3.7/dist-packages (from Jinja2<3.0,>=2.10.1->flask->jupyter_dash) (2.0.1)\n",
            "Requirement already satisfied: six in /usr/local/lib/python3.7/dist-packages (from plotly>=5.0.0->dash->jupyter_dash) (1.15.0)\n",
            "Requirement already satisfied: tenacity>=6.2.0 in /usr/local/lib/python3.7/dist-packages (from plotly>=5.0.0->dash->jupyter_dash) (8.0.1)\n",
            "Requirement already satisfied: brotli in /usr/local/lib/python3.7/dist-packages (from flask-compress->dash->jupyter_dash) (1.0.9)\n",
            "Requirement already satisfied: zipp>=0.5 in /usr/local/lib/python3.7/dist-packages (from importlib-metadata->ansi2html->jupyter_dash) (3.8.1)\n",
            "Requirement already satisfied: typing-extensions>=3.6.4 in /usr/local/lib/python3.7/dist-packages (from importlib-metadata->ansi2html->jupyter_dash) (4.1.1)\n",
            "Requirement already satisfied: tornado>=4.2 in /usr/local/lib/python3.7/dist-packages (from ipykernel->jupyter_dash) (5.1.1)\n",
            "Requirement already satisfied: jupyter-client in /usr/local/lib/python3.7/dist-packages (from ipykernel->jupyter_dash) (6.1.12)\n",
            "Requirement already satisfied: traitlets>=4.1.0 in /usr/local/lib/python3.7/dist-packages (from ipykernel->jupyter_dash) (5.1.1)\n",
            "Requirement already satisfied: jedi>=0.10 in /usr/local/lib/python3.7/dist-packages (from ipython->jupyter_dash) (0.18.1)\n",
            "Requirement already satisfied: setuptools>=18.5 in /usr/local/lib/python3.7/dist-packages (from ipython->jupyter_dash) (57.4.0)\n",
            "Requirement already satisfied: backcall in /usr/local/lib/python3.7/dist-packages (from ipython->jupyter_dash) (0.2.0)\n",
            "Requirement already satisfied: pickleshare in /usr/local/lib/python3.7/dist-packages (from ipython->jupyter_dash) (0.7.5)\n",
            "Requirement already satisfied: prompt-toolkit<2.1.0,>=2.0.0 in /usr/local/lib/python3.7/dist-packages (from ipython->jupyter_dash) (2.0.10)\n",
            "Requirement already satisfied: pexpect in /usr/local/lib/python3.7/dist-packages (from ipython->jupyter_dash) (4.8.0)\n",
            "Requirement already satisfied: decorator in /usr/local/lib/python3.7/dist-packages (from ipython->jupyter_dash) (4.4.2)\n",
            "Requirement already satisfied: pygments in /usr/local/lib/python3.7/dist-packages (from ipython->jupyter_dash) (2.6.1)\n",
            "Requirement already satisfied: parso<0.9.0,>=0.8.0 in /usr/local/lib/python3.7/dist-packages (from jedi>=0.10->ipython->jupyter_dash) (0.8.3)\n",
            "Requirement already satisfied: wcwidth in /usr/local/lib/python3.7/dist-packages (from prompt-toolkit<2.1.0,>=2.0.0->ipython->jupyter_dash) (0.2.5)\n",
            "Requirement already satisfied: jupyter-core>=4.6.0 in /usr/local/lib/python3.7/dist-packages (from jupyter-client->ipykernel->jupyter_dash) (4.11.1)\n",
            "Requirement already satisfied: pyzmq>=13 in /usr/local/lib/python3.7/dist-packages (from jupyter-client->ipykernel->jupyter_dash) (23.2.1)\n",
            "Requirement already satisfied: python-dateutil>=2.1 in /usr/local/lib/python3.7/dist-packages (from jupyter-client->ipykernel->jupyter_dash) (2.8.2)\n",
            "Requirement already satisfied: ptyprocess>=0.5 in /usr/local/lib/python3.7/dist-packages (from pexpect->ipython->jupyter_dash) (0.7.0)\n",
            "Requirement already satisfied: urllib3!=1.25.0,!=1.25.1,<1.26,>=1.21.1 in /usr/local/lib/python3.7/dist-packages (from requests->jupyter_dash) (1.24.3)\n",
            "Requirement already satisfied: chardet<4,>=3.0.2 in /usr/local/lib/python3.7/dist-packages (from requests->jupyter_dash) (3.0.4)\n",
            "Requirement already satisfied: idna<3,>=2.5 in /usr/local/lib/python3.7/dist-packages (from requests->jupyter_dash) (2.10)\n",
            "Requirement already satisfied: certifi>=2017.4.17 in /usr/local/lib/python3.7/dist-packages (from requests->jupyter_dash) (2022.6.15)\n"
          ]
        }
      ]
    },
    {
      "cell_type": "code",
      "metadata": {
        "id": "irw4GHlk9Pg1",
        "colab": {
          "base_uri": "https://localhost:8080/",
          "height": 53
        },
        "outputId": "83cc1c3d-ed1a-4839-e624-f33beaa32ef7"
      },
      "source": [
        "import dash\n",
        "from dash import html\n",
        "import plotly.graph_objects as go\n",
        "from dash import dcc\n",
        "import plotly.express as px\n",
        "from dash.dependencies import Input, Output\n",
        "\n",
        "from jupyter_dash import JupyterDash\n",
        "\n",
        "# Load Dash App\n",
        "app = JupyterDash()\n",
        "\n",
        "# Define App\n",
        "app.layout = html.Div(id = 'parent',\n",
        "                      children = [html.H1(id = 'H1', children = 'Cas93 Dashboard',\n",
        "                                          style = {'textAlign':'center',\\\n",
        "                                                   'marginTop':40,\n",
        "                                                  'marginBottom':40}),\n",
        "                                  dcc.Dropdown(id = 'dromdown', \n",
        "                                      options = [{'label' : 'city', 'value' : 'MPG.city'},\n",
        "                                                 {'label' : 'highway', 'value' : 'MPG.highway'},\n",
        "                                                 {'label' : 'per.mile', 'value' : 'Rev.per.mile'},],\n",
        "                                                 value = 'MPG.city'),\n",
        "                                                 dcc.Graph(id = 'plot')\n",
        "                                      ])\n",
        "\n",
        "# Define callback decorator and it's function    \n",
        "@app.callback(Output(component_id='plot', component_property= 'figure'),\n",
        "              [Input(component_id='dropdown', component_property= 'value')])\n",
        "def graph_update(dropdown_value):\n",
        "    print(dropdown_value)\n",
        "    fig = px.density_contou(df, x = \"Price\",\n",
        "     y = dropdown_value, marginal_x = \"histogram\", marginal_y = \"histogram\")\n",
        "\n",
        "    return fig  \n",
        "\n",
        "if __name__ == '__main__': \n",
        "    app.run_server()"
      ],
      "execution_count": null,
      "outputs": [
        {
          "output_type": "stream",
          "name": "stdout",
          "text": [
            "Dash app running on:\n"
          ]
        },
        {
          "output_type": "display_data",
          "data": {
            "text/plain": [
              "<IPython.core.display.Javascript object>"
            ],
            "application/javascript": [
              "(async (port, path, text, element) => {\n",
              "    if (!google.colab.kernel.accessAllowed) {\n",
              "      return;\n",
              "    }\n",
              "    element.appendChild(document.createTextNode(''));\n",
              "    const url = await google.colab.kernel.proxyPort(port);\n",
              "    const anchor = document.createElement('a');\n",
              "    anchor.href = new URL(path, url).toString();\n",
              "    anchor.target = '_blank';\n",
              "    anchor.setAttribute('data-href', url + path);\n",
              "    anchor.textContent = text;\n",
              "    element.appendChild(anchor);\n",
              "  })(8050, \"/\", \"http://127.0.0.1:8050/\", window.element)"
            ]
          },
          "metadata": {}
        }
      ]
    },
    {
      "cell_type": "markdown",
      "source": [
        "#TODO\n",
        "이번에 할 데이터는 `NBA선수 데이터`와 `로또 데이터` 입니다! \n",
        "\n",
        "출발~~~!!!"
      ],
      "metadata": {
        "id": "EkDsqBuAvxRN"
      }
    },
    {
      "cell_type": "markdown",
      "source": [
        "## NBA data\n",
        "아래에 보이는 데이터는 NBA선수 데이터 입니다!\n",
        "\n",
        "선수들의 소속팀, 이름, 키, 몸무게, 시즌, 출신대학교 등등이있습니다."
      ],
      "metadata": {
        "id": "5R2IFkpJc0uG"
      }
    },
    {
      "cell_type": "code",
      "source": [
        "df_players = pd.read_csv('https://raw.githubusercontent.com/wonseok-hong/DAP_TA/main/all_seasons.csv')\n",
        "df_players"
      ],
      "metadata": {
        "id": "0f12xkLvmic0",
        "colab": {
          "base_uri": "https://localhost:8080/",
          "height": 696
        },
        "outputId": "e0a5c911-5a7a-461e-9f7a-f2faac2ebe35"
      },
      "execution_count": null,
      "outputs": [
        {
          "output_type": "execute_result",
          "data": {
            "text/plain": [
              "       Unnamed: 0        player_name team_abbreviation   age  player_height  \\\n",
              "0               0      Dennis Rodman               CHI  36.0         198.12   \n",
              "1               1  Dwayne Schintzius               LAC  28.0         215.90   \n",
              "2               2       Earl Cureton               TOR  39.0         205.74   \n",
              "3               3        Ed O'Bannon               DAL  24.0         203.20   \n",
              "4               4        Ed Pinckney               MIA  34.0         205.74   \n",
              "...           ...                ...               ...   ...            ...   \n",
              "12300       12300    Markieff Morris               MIA  32.0         205.74   \n",
              "12301       12301     Markelle Fultz               ORL  24.0         193.04   \n",
              "12302       12302       Marcus Smart               BOS  28.0         193.04   \n",
              "12303       12303     Marcus Garrett               MIA  23.0         195.58   \n",
              "12304       12304       Micah Potter               DET  24.0         208.28   \n",
              "\n",
              "       player_weight                      college country draft_year  \\\n",
              "0          99.790240  Southeastern Oklahoma State     USA       1986   \n",
              "1         117.933920                      Florida     USA       1990   \n",
              "2          95.254320                Detroit Mercy     USA       1979   \n",
              "3         100.697424                         UCLA     USA       1995   \n",
              "4         108.862080                    Villanova     USA       1985   \n",
              "...              ...                          ...     ...        ...   \n",
              "12300     111.130040                       Kansas     USA       2011   \n",
              "12301      94.800728                   Washington     USA       2017   \n",
              "12302      99.790240               Oklahoma State     USA       2014   \n",
              "12303      92.986360                       Kansas     USA  Undrafted   \n",
              "12304     112.490816                    Wisconsin     USA  Undrafted   \n",
              "\n",
              "      draft_round  ...   pts   reb  ast  net_rating  oreb_pct  dreb_pct  \\\n",
              "0               2  ...   5.7  16.1  3.1        16.1     0.186     0.323   \n",
              "1               1  ...   2.3   1.5  0.3        12.3     0.078     0.151   \n",
              "2               3  ...   0.8   1.0  0.4        -2.1     0.105     0.102   \n",
              "3               1  ...   3.7   2.3  0.6        -8.7     0.060     0.149   \n",
              "4               1  ...   2.4   2.4  0.2       -11.2     0.109     0.179   \n",
              "...           ...  ...   ...   ...  ...         ...       ...       ...   \n",
              "12300           1  ...   7.6   2.6  1.4         4.5     0.059     0.089   \n",
              "12301           1  ...  10.8   2.7  5.5        -5.3     0.010     0.116   \n",
              "12302           1  ...  12.1   3.8  5.9         9.3     0.018     0.093   \n",
              "12303   Undrafted  ...   1.1   1.9  0.6         5.8     0.072     0.108   \n",
              "12304   Undrafted  ...   4.0   3.0  0.0       -56.4     0.095     0.125   \n",
              "\n",
              "       usg_pct  ts_pct  ast_pct   season  \n",
              "0        0.100   0.479    0.113  1996-97  \n",
              "1        0.175   0.430    0.048  1996-97  \n",
              "2        0.103   0.376    0.148  1996-97  \n",
              "3        0.167   0.399    0.077  1996-97  \n",
              "4        0.127   0.611    0.040  1996-97  \n",
              "...        ...     ...      ...      ...  \n",
              "12300    0.197   0.547    0.116  2021-22  \n",
              "12301    0.265   0.517    0.448  2021-22  \n",
              "12302    0.179   0.540    0.245  2021-22  \n",
              "12303    0.086   0.280    0.069  2021-22  \n",
              "12304    0.148   0.505    0.000  2021-22  \n",
              "\n",
              "[12305 rows x 22 columns]"
            ],
            "text/html": [
              "\n",
              "  <div id=\"df-2bb5fc84-2fec-4ee5-9c4d-2c938deda503\">\n",
              "    <div class=\"colab-df-container\">\n",
              "      <div>\n",
              "<style scoped>\n",
              "    .dataframe tbody tr th:only-of-type {\n",
              "        vertical-align: middle;\n",
              "    }\n",
              "\n",
              "    .dataframe tbody tr th {\n",
              "        vertical-align: top;\n",
              "    }\n",
              "\n",
              "    .dataframe thead th {\n",
              "        text-align: right;\n",
              "    }\n",
              "</style>\n",
              "<table border=\"1\" class=\"dataframe\">\n",
              "  <thead>\n",
              "    <tr style=\"text-align: right;\">\n",
              "      <th></th>\n",
              "      <th>Unnamed: 0</th>\n",
              "      <th>player_name</th>\n",
              "      <th>team_abbreviation</th>\n",
              "      <th>age</th>\n",
              "      <th>player_height</th>\n",
              "      <th>player_weight</th>\n",
              "      <th>college</th>\n",
              "      <th>country</th>\n",
              "      <th>draft_year</th>\n",
              "      <th>draft_round</th>\n",
              "      <th>...</th>\n",
              "      <th>pts</th>\n",
              "      <th>reb</th>\n",
              "      <th>ast</th>\n",
              "      <th>net_rating</th>\n",
              "      <th>oreb_pct</th>\n",
              "      <th>dreb_pct</th>\n",
              "      <th>usg_pct</th>\n",
              "      <th>ts_pct</th>\n",
              "      <th>ast_pct</th>\n",
              "      <th>season</th>\n",
              "    </tr>\n",
              "  </thead>\n",
              "  <tbody>\n",
              "    <tr>\n",
              "      <th>0</th>\n",
              "      <td>0</td>\n",
              "      <td>Dennis Rodman</td>\n",
              "      <td>CHI</td>\n",
              "      <td>36.0</td>\n",
              "      <td>198.12</td>\n",
              "      <td>99.790240</td>\n",
              "      <td>Southeastern Oklahoma State</td>\n",
              "      <td>USA</td>\n",
              "      <td>1986</td>\n",
              "      <td>2</td>\n",
              "      <td>...</td>\n",
              "      <td>5.7</td>\n",
              "      <td>16.1</td>\n",
              "      <td>3.1</td>\n",
              "      <td>16.1</td>\n",
              "      <td>0.186</td>\n",
              "      <td>0.323</td>\n",
              "      <td>0.100</td>\n",
              "      <td>0.479</td>\n",
              "      <td>0.113</td>\n",
              "      <td>1996-97</td>\n",
              "    </tr>\n",
              "    <tr>\n",
              "      <th>1</th>\n",
              "      <td>1</td>\n",
              "      <td>Dwayne Schintzius</td>\n",
              "      <td>LAC</td>\n",
              "      <td>28.0</td>\n",
              "      <td>215.90</td>\n",
              "      <td>117.933920</td>\n",
              "      <td>Florida</td>\n",
              "      <td>USA</td>\n",
              "      <td>1990</td>\n",
              "      <td>1</td>\n",
              "      <td>...</td>\n",
              "      <td>2.3</td>\n",
              "      <td>1.5</td>\n",
              "      <td>0.3</td>\n",
              "      <td>12.3</td>\n",
              "      <td>0.078</td>\n",
              "      <td>0.151</td>\n",
              "      <td>0.175</td>\n",
              "      <td>0.430</td>\n",
              "      <td>0.048</td>\n",
              "      <td>1996-97</td>\n",
              "    </tr>\n",
              "    <tr>\n",
              "      <th>2</th>\n",
              "      <td>2</td>\n",
              "      <td>Earl Cureton</td>\n",
              "      <td>TOR</td>\n",
              "      <td>39.0</td>\n",
              "      <td>205.74</td>\n",
              "      <td>95.254320</td>\n",
              "      <td>Detroit Mercy</td>\n",
              "      <td>USA</td>\n",
              "      <td>1979</td>\n",
              "      <td>3</td>\n",
              "      <td>...</td>\n",
              "      <td>0.8</td>\n",
              "      <td>1.0</td>\n",
              "      <td>0.4</td>\n",
              "      <td>-2.1</td>\n",
              "      <td>0.105</td>\n",
              "      <td>0.102</td>\n",
              "      <td>0.103</td>\n",
              "      <td>0.376</td>\n",
              "      <td>0.148</td>\n",
              "      <td>1996-97</td>\n",
              "    </tr>\n",
              "    <tr>\n",
              "      <th>3</th>\n",
              "      <td>3</td>\n",
              "      <td>Ed O'Bannon</td>\n",
              "      <td>DAL</td>\n",
              "      <td>24.0</td>\n",
              "      <td>203.20</td>\n",
              "      <td>100.697424</td>\n",
              "      <td>UCLA</td>\n",
              "      <td>USA</td>\n",
              "      <td>1995</td>\n",
              "      <td>1</td>\n",
              "      <td>...</td>\n",
              "      <td>3.7</td>\n",
              "      <td>2.3</td>\n",
              "      <td>0.6</td>\n",
              "      <td>-8.7</td>\n",
              "      <td>0.060</td>\n",
              "      <td>0.149</td>\n",
              "      <td>0.167</td>\n",
              "      <td>0.399</td>\n",
              "      <td>0.077</td>\n",
              "      <td>1996-97</td>\n",
              "    </tr>\n",
              "    <tr>\n",
              "      <th>4</th>\n",
              "      <td>4</td>\n",
              "      <td>Ed Pinckney</td>\n",
              "      <td>MIA</td>\n",
              "      <td>34.0</td>\n",
              "      <td>205.74</td>\n",
              "      <td>108.862080</td>\n",
              "      <td>Villanova</td>\n",
              "      <td>USA</td>\n",
              "      <td>1985</td>\n",
              "      <td>1</td>\n",
              "      <td>...</td>\n",
              "      <td>2.4</td>\n",
              "      <td>2.4</td>\n",
              "      <td>0.2</td>\n",
              "      <td>-11.2</td>\n",
              "      <td>0.109</td>\n",
              "      <td>0.179</td>\n",
              "      <td>0.127</td>\n",
              "      <td>0.611</td>\n",
              "      <td>0.040</td>\n",
              "      <td>1996-97</td>\n",
              "    </tr>\n",
              "    <tr>\n",
              "      <th>...</th>\n",
              "      <td>...</td>\n",
              "      <td>...</td>\n",
              "      <td>...</td>\n",
              "      <td>...</td>\n",
              "      <td>...</td>\n",
              "      <td>...</td>\n",
              "      <td>...</td>\n",
              "      <td>...</td>\n",
              "      <td>...</td>\n",
              "      <td>...</td>\n",
              "      <td>...</td>\n",
              "      <td>...</td>\n",
              "      <td>...</td>\n",
              "      <td>...</td>\n",
              "      <td>...</td>\n",
              "      <td>...</td>\n",
              "      <td>...</td>\n",
              "      <td>...</td>\n",
              "      <td>...</td>\n",
              "      <td>...</td>\n",
              "      <td>...</td>\n",
              "    </tr>\n",
              "    <tr>\n",
              "      <th>12300</th>\n",
              "      <td>12300</td>\n",
              "      <td>Markieff Morris</td>\n",
              "      <td>MIA</td>\n",
              "      <td>32.0</td>\n",
              "      <td>205.74</td>\n",
              "      <td>111.130040</td>\n",
              "      <td>Kansas</td>\n",
              "      <td>USA</td>\n",
              "      <td>2011</td>\n",
              "      <td>1</td>\n",
              "      <td>...</td>\n",
              "      <td>7.6</td>\n",
              "      <td>2.6</td>\n",
              "      <td>1.4</td>\n",
              "      <td>4.5</td>\n",
              "      <td>0.059</td>\n",
              "      <td>0.089</td>\n",
              "      <td>0.197</td>\n",
              "      <td>0.547</td>\n",
              "      <td>0.116</td>\n",
              "      <td>2021-22</td>\n",
              "    </tr>\n",
              "    <tr>\n",
              "      <th>12301</th>\n",
              "      <td>12301</td>\n",
              "      <td>Markelle Fultz</td>\n",
              "      <td>ORL</td>\n",
              "      <td>24.0</td>\n",
              "      <td>193.04</td>\n",
              "      <td>94.800728</td>\n",
              "      <td>Washington</td>\n",
              "      <td>USA</td>\n",
              "      <td>2017</td>\n",
              "      <td>1</td>\n",
              "      <td>...</td>\n",
              "      <td>10.8</td>\n",
              "      <td>2.7</td>\n",
              "      <td>5.5</td>\n",
              "      <td>-5.3</td>\n",
              "      <td>0.010</td>\n",
              "      <td>0.116</td>\n",
              "      <td>0.265</td>\n",
              "      <td>0.517</td>\n",
              "      <td>0.448</td>\n",
              "      <td>2021-22</td>\n",
              "    </tr>\n",
              "    <tr>\n",
              "      <th>12302</th>\n",
              "      <td>12302</td>\n",
              "      <td>Marcus Smart</td>\n",
              "      <td>BOS</td>\n",
              "      <td>28.0</td>\n",
              "      <td>193.04</td>\n",
              "      <td>99.790240</td>\n",
              "      <td>Oklahoma State</td>\n",
              "      <td>USA</td>\n",
              "      <td>2014</td>\n",
              "      <td>1</td>\n",
              "      <td>...</td>\n",
              "      <td>12.1</td>\n",
              "      <td>3.8</td>\n",
              "      <td>5.9</td>\n",
              "      <td>9.3</td>\n",
              "      <td>0.018</td>\n",
              "      <td>0.093</td>\n",
              "      <td>0.179</td>\n",
              "      <td>0.540</td>\n",
              "      <td>0.245</td>\n",
              "      <td>2021-22</td>\n",
              "    </tr>\n",
              "    <tr>\n",
              "      <th>12303</th>\n",
              "      <td>12303</td>\n",
              "      <td>Marcus Garrett</td>\n",
              "      <td>MIA</td>\n",
              "      <td>23.0</td>\n",
              "      <td>195.58</td>\n",
              "      <td>92.986360</td>\n",
              "      <td>Kansas</td>\n",
              "      <td>USA</td>\n",
              "      <td>Undrafted</td>\n",
              "      <td>Undrafted</td>\n",
              "      <td>...</td>\n",
              "      <td>1.1</td>\n",
              "      <td>1.9</td>\n",
              "      <td>0.6</td>\n",
              "      <td>5.8</td>\n",
              "      <td>0.072</td>\n",
              "      <td>0.108</td>\n",
              "      <td>0.086</td>\n",
              "      <td>0.280</td>\n",
              "      <td>0.069</td>\n",
              "      <td>2021-22</td>\n",
              "    </tr>\n",
              "    <tr>\n",
              "      <th>12304</th>\n",
              "      <td>12304</td>\n",
              "      <td>Micah Potter</td>\n",
              "      <td>DET</td>\n",
              "      <td>24.0</td>\n",
              "      <td>208.28</td>\n",
              "      <td>112.490816</td>\n",
              "      <td>Wisconsin</td>\n",
              "      <td>USA</td>\n",
              "      <td>Undrafted</td>\n",
              "      <td>Undrafted</td>\n",
              "      <td>...</td>\n",
              "      <td>4.0</td>\n",
              "      <td>3.0</td>\n",
              "      <td>0.0</td>\n",
              "      <td>-56.4</td>\n",
              "      <td>0.095</td>\n",
              "      <td>0.125</td>\n",
              "      <td>0.148</td>\n",
              "      <td>0.505</td>\n",
              "      <td>0.000</td>\n",
              "      <td>2021-22</td>\n",
              "    </tr>\n",
              "  </tbody>\n",
              "</table>\n",
              "<p>12305 rows × 22 columns</p>\n",
              "</div>\n",
              "      <button class=\"colab-df-convert\" onclick=\"convertToInteractive('df-2bb5fc84-2fec-4ee5-9c4d-2c938deda503')\"\n",
              "              title=\"Convert this dataframe to an interactive table.\"\n",
              "              style=\"display:none;\">\n",
              "        \n",
              "  <svg xmlns=\"http://www.w3.org/2000/svg\" height=\"24px\"viewBox=\"0 0 24 24\"\n",
              "       width=\"24px\">\n",
              "    <path d=\"M0 0h24v24H0V0z\" fill=\"none\"/>\n",
              "    <path d=\"M18.56 5.44l.94 2.06.94-2.06 2.06-.94-2.06-.94-.94-2.06-.94 2.06-2.06.94zm-11 1L8.5 8.5l.94-2.06 2.06-.94-2.06-.94L8.5 2.5l-.94 2.06-2.06.94zm10 10l.94 2.06.94-2.06 2.06-.94-2.06-.94-.94-2.06-.94 2.06-2.06.94z\"/><path d=\"M17.41 7.96l-1.37-1.37c-.4-.4-.92-.59-1.43-.59-.52 0-1.04.2-1.43.59L10.3 9.45l-7.72 7.72c-.78.78-.78 2.05 0 2.83L4 21.41c.39.39.9.59 1.41.59.51 0 1.02-.2 1.41-.59l7.78-7.78 2.81-2.81c.8-.78.8-2.07 0-2.86zM5.41 20L4 18.59l7.72-7.72 1.47 1.35L5.41 20z\"/>\n",
              "  </svg>\n",
              "      </button>\n",
              "      \n",
              "  <style>\n",
              "    .colab-df-container {\n",
              "      display:flex;\n",
              "      flex-wrap:wrap;\n",
              "      gap: 12px;\n",
              "    }\n",
              "\n",
              "    .colab-df-convert {\n",
              "      background-color: #E8F0FE;\n",
              "      border: none;\n",
              "      border-radius: 50%;\n",
              "      cursor: pointer;\n",
              "      display: none;\n",
              "      fill: #1967D2;\n",
              "      height: 32px;\n",
              "      padding: 0 0 0 0;\n",
              "      width: 32px;\n",
              "    }\n",
              "\n",
              "    .colab-df-convert:hover {\n",
              "      background-color: #E2EBFA;\n",
              "      box-shadow: 0px 1px 2px rgba(60, 64, 67, 0.3), 0px 1px 3px 1px rgba(60, 64, 67, 0.15);\n",
              "      fill: #174EA6;\n",
              "    }\n",
              "\n",
              "    [theme=dark] .colab-df-convert {\n",
              "      background-color: #3B4455;\n",
              "      fill: #D2E3FC;\n",
              "    }\n",
              "\n",
              "    [theme=dark] .colab-df-convert:hover {\n",
              "      background-color: #434B5C;\n",
              "      box-shadow: 0px 1px 3px 1px rgba(0, 0, 0, 0.15);\n",
              "      filter: drop-shadow(0px 1px 2px rgba(0, 0, 0, 0.3));\n",
              "      fill: #FFFFFF;\n",
              "    }\n",
              "  </style>\n",
              "\n",
              "      <script>\n",
              "        const buttonEl =\n",
              "          document.querySelector('#df-2bb5fc84-2fec-4ee5-9c4d-2c938deda503 button.colab-df-convert');\n",
              "        buttonEl.style.display =\n",
              "          google.colab.kernel.accessAllowed ? 'block' : 'none';\n",
              "\n",
              "        async function convertToInteractive(key) {\n",
              "          const element = document.querySelector('#df-2bb5fc84-2fec-4ee5-9c4d-2c938deda503');\n",
              "          const dataTable =\n",
              "            await google.colab.kernel.invokeFunction('convertToInteractive',\n",
              "                                                     [key], {});\n",
              "          if (!dataTable) return;\n",
              "\n",
              "          const docLinkHtml = 'Like what you see? Visit the ' +\n",
              "            '<a target=\"_blank\" href=https://colab.research.google.com/notebooks/data_table.ipynb>data table notebook</a>'\n",
              "            + ' to learn more about interactive tables.';\n",
              "          element.innerHTML = '';\n",
              "          dataTable['output_type'] = 'display_data';\n",
              "          await google.colab.output.renderOutput(dataTable, element);\n",
              "          const docLink = document.createElement('div');\n",
              "          docLink.innerHTML = docLinkHtml;\n",
              "          element.appendChild(docLink);\n",
              "        }\n",
              "      </script>\n",
              "    </div>\n",
              "  </div>\n",
              "  "
            ]
          },
          "metadata": {},
          "execution_count": 87
        }
      ]
    },
    {
      "cell_type": "markdown",
      "source": [
        "### 1. scatter plot을 이용하여 선수들의 키와 몸무게 비교\n",
        "\n",
        "색깔은 `#e377c2`색을 넣어주시면 됩니다. 마커는 `x`표시로 해주세요! 마커 투명도는 0.5로 주시면됩니다!\n",
        "\n",
        "레이블과 타이틀또한 정답과 동일하게 해주세요!"
      ],
      "metadata": {
        "id": "7Dm00v44USGP"
      }
    },
    {
      "cell_type": "code",
      "source": [
        "x = [df_players['player_height']]\n",
        "y = [df_players['player_weight']]\n",
        "\n",
        "########### Make Code ###########\n",
        "plt.scatter(x, y, c= '#e377c2', marker = 'x', alpha = 0.5)\n",
        "\n",
        "plt.show()"
      ],
      "metadata": {
        "id": "7f97R5AQzKN1",
        "colab": {
          "base_uri": "https://localhost:8080/",
          "height": 265
        },
        "outputId": "96f4b46a-3678-4fd2-dcc3-bfbe63510c4d"
      },
      "execution_count": null,
      "outputs": [
        {
          "output_type": "display_data",
          "data": {
            "text/plain": [
              "<Figure size 432x288 with 1 Axes>"
            ],
            "image/png": "[encoded data removed]"
          },
          "metadata": {
            "needs_background": "light"
          }
        }
      ]
    },
    {
      "cell_type": "markdown",
      "source": [
        "### 2. plotly사용해보기!\n",
        "\n",
        "plotly를 이용하여 선수들의 키와 몸무게(`player_height`와 `player_weight`)를 비교하고 마우스로 댔을때 player_name나오게 해주세요.  \n",
        "\n",
        "또한 `pts`별 색깔도 적용해주세요!"
      ],
      "metadata": {
        "id": "xMPnlGfTUjRg"
      }
    },
    {
      "cell_type": "code",
      "source": [
        "fig = [go.scatter(x , y, text = df_players['player_name'])]\n",
        "fig.show()"
      ],
      "metadata": {
        "id": "wbhyAy_Iz_IO",
        "colab": {
          "base_uri": "https://localhost:8080/",
          "height": 191
        },
        "outputId": "091d51fe-9a8f-401f-b1b4-3884f412ac52"
      },
      "execution_count": null,
      "outputs": [
        {
          "output_type": "error",
          "ename": "TypeError",
          "evalue": "ignored",
          "traceback": [
            "\u001b[0;31m---------------------------------------------------------------------------\u001b[0m",
            "\u001b[0;31mTypeError\u001b[0m                                 Traceback (most recent call last)",
            "\u001b[0;32m<ipython-input-81-4842942b6fc5>\u001b[0m in \u001b[0;36m<module>\u001b[0;34m\u001b[0m\n\u001b[0;32m----> 1\u001b[0;31m \u001b[0mfig\u001b[0m \u001b[0;34m=\u001b[0m \u001b[0;34m[\u001b[0m\u001b[0mgo\u001b[0m\u001b[0;34m.\u001b[0m\u001b[0mscatter\u001b[0m\u001b[0;34m(\u001b[0m\u001b[0mx\u001b[0m \u001b[0;34m,\u001b[0m \u001b[0my\u001b[0m\u001b[0;34m,\u001b[0m \u001b[0mtext\u001b[0m \u001b[0;34m=\u001b[0m \u001b[0mdf_players\u001b[0m\u001b[0;34m[\u001b[0m\u001b[0;34m'player_name'\u001b[0m\u001b[0;34m]\u001b[0m\u001b[0;34m)\u001b[0m\u001b[0;34m]\u001b[0m\u001b[0;34m\u001b[0m\u001b[0;34m\u001b[0m\u001b[0m\n\u001b[0m\u001b[1;32m      2\u001b[0m \u001b[0mfig\u001b[0m\u001b[0;34m.\u001b[0m\u001b[0mshow\u001b[0m\u001b[0;34m(\u001b[0m\u001b[0;34m)\u001b[0m\u001b[0;34m\u001b[0m\u001b[0;34m\u001b[0m\u001b[0m\n",
            "\u001b[0;31mTypeError\u001b[0m: 'module' object is not callable"
          ]
        }
      ]
    },
    {
      "cell_type": "markdown",
      "source": [
        "### 3. 데이터 전처리\n",
        "\n",
        "여기서서는 `Stephen Curry`선수의 데이터를 Curry_data에 저장해주세요!"
      ],
      "metadata": {
        "id": "RA-NfRi2fIi4"
      }
    },
    {
      "cell_type": "code",
      "source": [
        "Curry_data = df_players[df_players['player_name'] == 'Stephen Curry']\n",
        "Curry_data"
      ],
      "metadata": {
        "id": "fJanvN31uT73",
        "colab": {
          "base_uri": "https://localhost:8080/",
          "height": 793
        },
        "outputId": "c0dd48ae-e733-4fe4-a3bf-71a698136022"
      },
      "execution_count": null,
      "outputs": [
        {
          "output_type": "execute_result",
          "data": {
            "text/plain": [
              "       Unnamed: 0    player_name team_abbreviation   age  player_height  \\\n",
              "5926         5926  Stephen Curry               GSW  22.0         190.50   \n",
              "6361         6361  Stephen Curry               GSW  23.0         190.50   \n",
              "6999         6999  Stephen Curry               GSW  24.0         190.50   \n",
              "7173         7173  Stephen Curry               GSW  25.0         190.50   \n",
              "7838         7838  Stephen Curry               GSW  26.0         190.50   \n",
              "8292         8292  Stephen Curry               GSW  27.0         190.50   \n",
              "8739         8739  Stephen Curry               GSW  28.0         190.50   \n",
              "9182         9182  Stephen Curry               GSW  29.0         190.50   \n",
              "9877         9877  Stephen Curry               GSW  30.0         190.50   \n",
              "10141       10141  Stephen Curry               GSW  31.0         190.50   \n",
              "10869       10869  Stephen Curry               GSW  32.0         190.50   \n",
              "11335       11335  Stephen Curry               GSW  33.0         190.50   \n",
              "12024       12024  Stephen Curry               GSW  34.0         187.96   \n",
              "\n",
              "       player_weight   college country draft_year draft_round  ...   pts  reb  \\\n",
              "5926        83.91452  Davidson     USA       2009           1  ...  17.5  4.5   \n",
              "6361        83.91452  Davidson     USA       2009           1  ...  18.6  3.9   \n",
              "6999        83.91452  Davidson     USA       2009           1  ...  14.7  3.4   \n",
              "7173        83.91452  Davidson     USA       2009           1  ...  22.9  4.0   \n",
              "7838        83.91452  Davidson     USA       2009           1  ...  24.0  4.3   \n",
              "8292        86.18248  Davidson     USA       2009           1  ...  23.8  4.3   \n",
              "8739        86.18248  Davidson     USA       2009           1  ...  30.1  5.4   \n",
              "9182        86.18248  Davidson     USA       2009           1  ...  25.3  4.5   \n",
              "9877        86.18248  Davidson     USA       2009           1  ...  26.4  5.1   \n",
              "10141       86.18248  Davidson     USA       2009           1  ...  27.3  5.3   \n",
              "10869       83.91452  Davidson     USA       2009           1  ...  20.8  5.2   \n",
              "11335       83.91452  Davidson     USA       2009           1  ...  32.0  5.5   \n",
              "12024       83.91452  Davidson     USA       2009           1  ...  25.5  5.2   \n",
              "\n",
              "       ast  net_rating  oreb_pct  dreb_pct  usg_pct  ts_pct  ast_pct   season  \n",
              "5926   5.9        -3.1     0.018     0.118    0.218   0.568    0.241  2009-10  \n",
              "6361   5.8        -0.6     0.023     0.109    0.242   0.595    0.268  2010-11  \n",
              "6999   5.3         5.4     0.023     0.111    0.235   0.605    0.295  2011-12  \n",
              "7173   6.9         2.4     0.022     0.092    0.261   0.589    0.298  2012-13  \n",
              "7838   8.5         9.4     0.018     0.108    0.281   0.610    0.372  2013-14  \n",
              "8292   7.7        17.0     0.024     0.113    0.283   0.638    0.358  2014-15  \n",
              "8739   6.7        18.3     0.029     0.131    0.320   0.669    0.315  2015-16  \n",
              "9182   6.6        17.2     0.027     0.113    0.292   0.624    0.287  2016-17  \n",
              "9877   6.1        13.0     0.024     0.124    0.290   0.675    0.272  2017-18  \n",
              "10141  5.2        13.7     0.020     0.122    0.292   0.641    0.225  2018-19  \n",
              "10869  6.6       -15.3     0.023     0.162    0.286   0.557    0.355  2019-20  \n",
              "11335  5.8         4.6     0.013     0.135    0.331   0.655    0.283  2020-21  \n",
              "12024  6.3        10.7     0.015     0.126    0.293   0.601    0.286  2021-22  \n",
              "\n",
              "[13 rows x 22 columns]"
            ],
            "text/html": [
              "\n",
              "  <div id=\"df-b5371ec3-d059-4b75-9075-e03a36e22c8e\">\n",
              "    <div class=\"colab-df-container\">\n",
              "      <div>\n",
              "<style scoped>\n",
              "    .dataframe tbody tr th:only-of-type {\n",
              "        vertical-align: middle;\n",
              "    }\n",
              "\n",
              "    .dataframe tbody tr th {\n",
              "        vertical-align: top;\n",
              "    }\n",
              "\n",
              "    .dataframe thead th {\n",
              "        text-align: right;\n",
              "    }\n",
              "</style>\n",
              "<table border=\"1\" class=\"dataframe\">\n",
              "  <thead>\n",
              "    <tr style=\"text-align: right;\">\n",
              "      <th></th>\n",
              "      <th>Unnamed: 0</th>\n",
              "      <th>player_name</th>\n",
              "      <th>team_abbreviation</th>\n",
              "      <th>age</th>\n",
              "      <th>player_height</th>\n",
              "      <th>player_weight</th>\n",
              "      <th>college</th>\n",
              "      <th>country</th>\n",
              "      <th>draft_year</th>\n",
              "      <th>draft_round</th>\n",
              "      <th>...</th>\n",
              "      <th>pts</th>\n",
              "      <th>reb</th>\n",
              "      <th>ast</th>\n",
              "      <th>net_rating</th>\n",
              "      <th>oreb_pct</th>\n",
              "      <th>dreb_pct</th>\n",
              "      <th>usg_pct</th>\n",
              "      <th>ts_pct</th>\n",
              "      <th>ast_pct</th>\n",
              "      <th>season</th>\n",
              "    </tr>\n",
              "  </thead>\n",
              "  <tbody>\n",
              "    <tr>\n",
              "      <th>5926</th>\n",
              "      <td>5926</td>\n",
              "      <td>Stephen Curry</td>\n",
              "      <td>GSW</td>\n",
              "      <td>22.0</td>\n",
              "      <td>190.50</td>\n",
              "      <td>83.91452</td>\n",
              "      <td>Davidson</td>\n",
              "      <td>USA</td>\n",
              "      <td>2009</td>\n",
              "      <td>1</td>\n",
              "      <td>...</td>\n",
              "      <td>17.5</td>\n",
              "      <td>4.5</td>\n",
              "      <td>5.9</td>\n",
              "      <td>-3.1</td>\n",
              "      <td>0.018</td>\n",
              "      <td>0.118</td>\n",
              "      <td>0.218</td>\n",
              "      <td>0.568</td>\n",
              "      <td>0.241</td>\n",
              "      <td>2009-10</td>\n",
              "    </tr>\n",
              "    <tr>\n",
              "      <th>6361</th>\n",
              "      <td>6361</td>\n",
              "      <td>Stephen Curry</td>\n",
              "      <td>GSW</td>\n",
              "      <td>23.0</td>\n",
              "      <td>190.50</td>\n",
              "      <td>83.91452</td>\n",
              "      <td>Davidson</td>\n",
              "      <td>USA</td>\n",
              "      <td>2009</td>\n",
              "      <td>1</td>\n",
              "      <td>...</td>\n",
              "      <td>18.6</td>\n",
              "      <td>3.9</td>\n",
              "      <td>5.8</td>\n",
              "      <td>-0.6</td>\n",
              "      <td>0.023</td>\n",
              "      <td>0.109</td>\n",
              "      <td>0.242</td>\n",
              "      <td>0.595</td>\n",
              "      <td>0.268</td>\n",
              "      <td>2010-11</td>\n",
              "    </tr>\n",
              "    <tr>\n",
              "      <th>6999</th>\n",
              "      <td>6999</td>\n",
              "      <td>Stephen Curry</td>\n",
              "      <td>GSW</td>\n",
              "      <td>24.0</td>\n",
              "      <td>190.50</td>\n",
              "      <td>83.91452</td>\n",
              "      <td>Davidson</td>\n",
              "      <td>USA</td>\n",
              "      <td>2009</td>\n",
              "      <td>1</td>\n",
              "      <td>...</td>\n",
              "      <td>14.7</td>\n",
              "      <td>3.4</td>\n",
              "      <td>5.3</td>\n",
              "      <td>5.4</td>\n",
              "      <td>0.023</td>\n",
              "      <td>0.111</td>\n",
              "      <td>0.235</td>\n",
              "      <td>0.605</td>\n",
              "      <td>0.295</td>\n",
              "      <td>2011-12</td>\n",
              "    </tr>\n",
              "    <tr>\n",
              "      <th>7173</th>\n",
              "      <td>7173</td>\n",
              "      <td>Stephen Curry</td>\n",
              "      <td>GSW</td>\n",
              "      <td>25.0</td>\n",
              "      <td>190.50</td>\n",
              "      <td>83.91452</td>\n",
              "      <td>Davidson</td>\n",
              "      <td>USA</td>\n",
              "      <td>2009</td>\n",
              "      <td>1</td>\n",
              "      <td>...</td>\n",
              "      <td>22.9</td>\n",
              "      <td>4.0</td>\n",
              "      <td>6.9</td>\n",
              "      <td>2.4</td>\n",
              "      <td>0.022</td>\n",
              "      <td>0.092</td>\n",
              "      <td>0.261</td>\n",
              "      <td>0.589</td>\n",
              "      <td>0.298</td>\n",
              "      <td>2012-13</td>\n",
              "    </tr>\n",
              "    <tr>\n",
              "      <th>7838</th>\n",
              "      <td>7838</td>\n",
              "      <td>Stephen Curry</td>\n",
              "      <td>GSW</td>\n",
              "      <td>26.0</td>\n",
              "      <td>190.50</td>\n",
              "      <td>83.91452</td>\n",
              "      <td>Davidson</td>\n",
              "      <td>USA</td>\n",
              "      <td>2009</td>\n",
              "      <td>1</td>\n",
              "      <td>...</td>\n",
              "      <td>24.0</td>\n",
              "      <td>4.3</td>\n",
              "      <td>8.5</td>\n",
              "      <td>9.4</td>\n",
              "      <td>0.018</td>\n",
              "      <td>0.108</td>\n",
              "      <td>0.281</td>\n",
              "      <td>0.610</td>\n",
              "      <td>0.372</td>\n",
              "      <td>2013-14</td>\n",
              "    </tr>\n",
              "    <tr>\n",
              "      <th>8292</th>\n",
              "      <td>8292</td>\n",
              "      <td>Stephen Curry</td>\n",
              "      <td>GSW</td>\n",
              "      <td>27.0</td>\n",
              "      <td>190.50</td>\n",
              "      <td>86.18248</td>\n",
              "      <td>Davidson</td>\n",
              "      <td>USA</td>\n",
              "      <td>2009</td>\n",
              "      <td>1</td>\n",
              "      <td>...</td>\n",
              "      <td>23.8</td>\n",
              "      <td>4.3</td>\n",
              "      <td>7.7</td>\n",
              "      <td>17.0</td>\n",
              "      <td>0.024</td>\n",
              "      <td>0.113</td>\n",
              "      <td>0.283</td>\n",
              "      <td>0.638</td>\n",
              "      <td>0.358</td>\n",
              "      <td>2014-15</td>\n",
              "    </tr>\n",
              "    <tr>\n",
              "      <th>8739</th>\n",
              "      <td>8739</td>\n",
              "      <td>Stephen Curry</td>\n",
              "      <td>GSW</td>\n",
              "      <td>28.0</td>\n",
              "      <td>190.50</td>\n",
              "      <td>86.18248</td>\n",
              "      <td>Davidson</td>\n",
              "      <td>USA</td>\n",
              "      <td>2009</td>\n",
              "      <td>1</td>\n",
              "      <td>...</td>\n",
              "      <td>30.1</td>\n",
              "      <td>5.4</td>\n",
              "      <td>6.7</td>\n",
              "      <td>18.3</td>\n",
              "      <td>0.029</td>\n",
              "      <td>0.131</td>\n",
              "      <td>0.320</td>\n",
              "      <td>0.669</td>\n",
              "      <td>0.315</td>\n",
              "      <td>2015-16</td>\n",
              "    </tr>\n",
              "    <tr>\n",
              "      <th>9182</th>\n",
              "      <td>9182</td>\n",
              "      <td>Stephen Curry</td>\n",
              "      <td>GSW</td>\n",
              "      <td>29.0</td>\n",
              "      <td>190.50</td>\n",
              "      <td>86.18248</td>\n",
              "      <td>Davidson</td>\n",
              "      <td>USA</td>\n",
              "      <td>2009</td>\n",
              "      <td>1</td>\n",
              "      <td>...</td>\n",
              "      <td>25.3</td>\n",
              "      <td>4.5</td>\n",
              "      <td>6.6</td>\n",
              "      <td>17.2</td>\n",
              "      <td>0.027</td>\n",
              "      <td>0.113</td>\n",
              "      <td>0.292</td>\n",
              "      <td>0.624</td>\n",
              "      <td>0.287</td>\n",
              "      <td>2016-17</td>\n",
              "    </tr>\n",
              "    <tr>\n",
              "      <th>9877</th>\n",
              "      <td>9877</td>\n",
              "      <td>Stephen Curry</td>\n",
              "      <td>GSW</td>\n",
              "      <td>30.0</td>\n",
              "      <td>190.50</td>\n",
              "      <td>86.18248</td>\n",
              "      <td>Davidson</td>\n",
              "      <td>USA</td>\n",
              "      <td>2009</td>\n",
              "      <td>1</td>\n",
              "      <td>...</td>\n",
              "      <td>26.4</td>\n",
              "      <td>5.1</td>\n",
              "      <td>6.1</td>\n",
              "      <td>13.0</td>\n",
              "      <td>0.024</td>\n",
              "      <td>0.124</td>\n",
              "      <td>0.290</td>\n",
              "      <td>0.675</td>\n",
              "      <td>0.272</td>\n",
              "      <td>2017-18</td>\n",
              "    </tr>\n",
              "    <tr>\n",
              "      <th>10141</th>\n",
              "      <td>10141</td>\n",
              "      <td>Stephen Curry</td>\n",
              "      <td>GSW</td>\n",
              "      <td>31.0</td>\n",
              "      <td>190.50</td>\n",
              "      <td>86.18248</td>\n",
              "      <td>Davidson</td>\n",
              "      <td>USA</td>\n",
              "      <td>2009</td>\n",
              "      <td>1</td>\n",
              "      <td>...</td>\n",
              "      <td>27.3</td>\n",
              "      <td>5.3</td>\n",
              "      <td>5.2</td>\n",
              "      <td>13.7</td>\n",
              "      <td>0.020</td>\n",
              "      <td>0.122</td>\n",
              "      <td>0.292</td>\n",
              "      <td>0.641</td>\n",
              "      <td>0.225</td>\n",
              "      <td>2018-19</td>\n",
              "    </tr>\n",
              "    <tr>\n",
              "      <th>10869</th>\n",
              "      <td>10869</td>\n",
              "      <td>Stephen Curry</td>\n",
              "      <td>GSW</td>\n",
              "      <td>32.0</td>\n",
              "      <td>190.50</td>\n",
              "      <td>83.91452</td>\n",
              "      <td>Davidson</td>\n",
              "      <td>USA</td>\n",
              "      <td>2009</td>\n",
              "      <td>1</td>\n",
              "      <td>...</td>\n",
              "      <td>20.8</td>\n",
              "      <td>5.2</td>\n",
              "      <td>6.6</td>\n",
              "      <td>-15.3</td>\n",
              "      <td>0.023</td>\n",
              "      <td>0.162</td>\n",
              "      <td>0.286</td>\n",
              "      <td>0.557</td>\n",
              "      <td>0.355</td>\n",
              "      <td>2019-20</td>\n",
              "    </tr>\n",
              "    <tr>\n",
              "      <th>11335</th>\n",
              "      <td>11335</td>\n",
              "      <td>Stephen Curry</td>\n",
              "      <td>GSW</td>\n",
              "      <td>33.0</td>\n",
              "      <td>190.50</td>\n",
              "      <td>83.91452</td>\n",
              "      <td>Davidson</td>\n",
              "      <td>USA</td>\n",
              "      <td>2009</td>\n",
              "      <td>1</td>\n",
              "      <td>...</td>\n",
              "      <td>32.0</td>\n",
              "      <td>5.5</td>\n",
              "      <td>5.8</td>\n",
              "      <td>4.6</td>\n",
              "      <td>0.013</td>\n",
              "      <td>0.135</td>\n",
              "      <td>0.331</td>\n",
              "      <td>0.655</td>\n",
              "      <td>0.283</td>\n",
              "      <td>2020-21</td>\n",
              "    </tr>\n",
              "    <tr>\n",
              "      <th>12024</th>\n",
              "      <td>12024</td>\n",
              "      <td>Stephen Curry</td>\n",
              "      <td>GSW</td>\n",
              "      <td>34.0</td>\n",
              "      <td>187.96</td>\n",
              "      <td>83.91452</td>\n",
              "      <td>Davidson</td>\n",
              "      <td>USA</td>\n",
              "      <td>2009</td>\n",
              "      <td>1</td>\n",
              "      <td>...</td>\n",
              "      <td>25.5</td>\n",
              "      <td>5.2</td>\n",
              "      <td>6.3</td>\n",
              "      <td>10.7</td>\n",
              "      <td>0.015</td>\n",
              "      <td>0.126</td>\n",
              "      <td>0.293</td>\n",
              "      <td>0.601</td>\n",
              "      <td>0.286</td>\n",
              "      <td>2021-22</td>\n",
              "    </tr>\n",
              "  </tbody>\n",
              "</table>\n",
              "<p>13 rows × 22 columns</p>\n",
              "</div>\n",
              "      <button class=\"colab-df-convert\" onclick=\"convertToInteractive('df-b5371ec3-d059-4b75-9075-e03a36e22c8e')\"\n",
              "              title=\"Convert this dataframe to an interactive table.\"\n",
              "              style=\"display:none;\">\n",
              "        \n",
              "  <svg xmlns=\"http://www.w3.org/2000/svg\" height=\"24px\"viewBox=\"0 0 24 24\"\n",
              "       width=\"24px\">\n",
              "    <path d=\"M0 0h24v24H0V0z\" fill=\"none\"/>\n",
              "    <path d=\"M18.56 5.44l.94 2.06.94-2.06 2.06-.94-2.06-.94-.94-2.06-.94 2.06-2.06.94zm-11 1L8.5 8.5l.94-2.06 2.06-.94-2.06-.94L8.5 2.5l-.94 2.06-2.06.94zm10 10l.94 2.06.94-2.06 2.06-.94-2.06-.94-.94-2.06-.94 2.06-2.06.94z\"/><path d=\"M17.41 7.96l-1.37-1.37c-.4-.4-.92-.59-1.43-.59-.52 0-1.04.2-1.43.59L10.3 9.45l-7.72 7.72c-.78.78-.78 2.05 0 2.83L4 21.41c.39.39.9.59 1.41.59.51 0 1.02-.2 1.41-.59l7.78-7.78 2.81-2.81c.8-.78.8-2.07 0-2.86zM5.41 20L4 18.59l7.72-7.72 1.47 1.35L5.41 20z\"/>\n",
              "  </svg>\n",
              "      </button>\n",
              "      \n",
              "  <style>\n",
              "    .colab-df-container {\n",
              "      display:flex;\n",
              "      flex-wrap:wrap;\n",
              "      gap: 12px;\n",
              "    }\n",
              "\n",
              "    .colab-df-convert {\n",
              "      background-color: #E8F0FE;\n",
              "      border: none;\n",
              "      border-radius: 50%;\n",
              "      cursor: pointer;\n",
              "      display: none;\n",
              "      fill: #1967D2;\n",
              "      height: 32px;\n",
              "      padding: 0 0 0 0;\n",
              "      width: 32px;\n",
              "    }\n",
              "\n",
              "    .colab-df-convert:hover {\n",
              "      background-color: #E2EBFA;\n",
              "      box-shadow: 0px 1px 2px rgba(60, 64, 67, 0.3), 0px 1px 3px 1px rgba(60, 64, 67, 0.15);\n",
              "      fill: #174EA6;\n",
              "    }\n",
              "\n",
              "    [theme=dark] .colab-df-convert {\n",
              "      background-color: #3B4455;\n",
              "      fill: #D2E3FC;\n",
              "    }\n",
              "\n",
              "    [theme=dark] .colab-df-convert:hover {\n",
              "      background-color: #434B5C;\n",
              "      box-shadow: 0px 1px 3px 1px rgba(0, 0, 0, 0.15);\n",
              "      filter: drop-shadow(0px 1px 2px rgba(0, 0, 0, 0.3));\n",
              "      fill: #FFFFFF;\n",
              "    }\n",
              "  </style>\n",
              "\n",
              "      <script>\n",
              "        const buttonEl =\n",
              "          document.querySelector('#df-b5371ec3-d059-4b75-9075-e03a36e22c8e button.colab-df-convert');\n",
              "        buttonEl.style.display =\n",
              "          google.colab.kernel.accessAllowed ? 'block' : 'none';\n",
              "\n",
              "        async function convertToInteractive(key) {\n",
              "          const element = document.querySelector('#df-b5371ec3-d059-4b75-9075-e03a36e22c8e');\n",
              "          const dataTable =\n",
              "            await google.colab.kernel.invokeFunction('convertToInteractive',\n",
              "                                                     [key], {});\n",
              "          if (!dataTable) return;\n",
              "\n",
              "          const docLinkHtml = 'Like what you see? Visit the ' +\n",
              "            '<a target=\"_blank\" href=https://colab.research.google.com/notebooks/data_table.ipynb>data table notebook</a>'\n",
              "            + ' to learn more about interactive tables.';\n",
              "          element.innerHTML = '';\n",
              "          dataTable['output_type'] = 'display_data';\n",
              "          await google.colab.output.renderOutput(dataTable, element);\n",
              "          const docLink = document.createElement('div');\n",
              "          docLink.innerHTML = docLinkHtml;\n",
              "          element.appendChild(docLink);\n",
              "        }\n",
              "      </script>\n",
              "    </div>\n",
              "  </div>\n",
              "  "
            ]
          },
          "metadata": {},
          "execution_count": 88
        }
      ]
    },
    {
      "cell_type": "markdown",
      "source": [
        "### 4. LinePlot그려보기\n",
        "\n",
        "`lineplot`을 이용하여 Stephen Curry선수의 시즌별 `pts`, `reb`, `ast`값 비교해보세요! \n",
        "\n",
        "아래그림처럼 plot을 그리면됩니다!"
      ],
      "metadata": {
        "id": "4xVNo2k76vgi"
      }
    },
    {
      "cell_type": "code",
      "source": [
        "# pts \n",
        "plt.figure(figsize=(10,7))\n",
        "x = Curry_data['season']\n",
        "y = Curry_data['pts']\n",
        "\n",
        "\n",
        "plt.plot(x, y, c = 'red')\n",
        "\n",
        "# reb\n",
        "x = Curry_data['season']\n",
        "y = Curry_data['reb']\n",
        "\n",
        "\n",
        "plt.plot(x, y, c = 'green')\n",
        "\n",
        "x = Curry_data['season']\n",
        "y = Curry_data['ast']\n",
        "\n",
        "plt.plot(x, y, c = \"blue\")\n",
        "\n",
        "\n",
        "########### Make ###########\n",
        "\n",
        "\n",
        "############################\n",
        "\n",
        "plt.show()"
      ],
      "metadata": {
        "id": "GjLhuTxj5z7s",
        "colab": {
          "base_uri": "https://localhost:8080/",
          "height": 428
        },
        "outputId": "06a6d23c-f55c-4cc2-89c1-3d00b9700363"
      },
      "execution_count": null,
      "outputs": [
        {
          "output_type": "display_data",
          "data": {
            "text/plain": [
              "<Figure size 720x504 with 1 Axes>"
            ],
            "image/png": "[encoded data removed]"
          },
          "metadata": {
            "needs_background": "light"
          }
        }
      ]
    },
    {
      "cell_type": "markdown",
      "source": [
        "### 5. Pie Plot그려보기!\n",
        "\n",
        "2015-16 시즌 이상 시즌별 Curry의 득점률 비교하는 문제입니다!\n",
        "\n",
        "- 색깔은 `mediumorchid`,`khaki`,`palegreen`,`deeppink`,`orange`,`teal`,`royalblue`을 조합해서 이용해주세요!\n",
        "- 제일 득점률이 높은 시즌의 슬라이스를 분리해주세요!\n",
        "- 참조 : [ref](https://matplotlib.org/stable/api/_as_gen/matplotlib.pyplot.pie.html)\n",
        "\n"
      ],
      "metadata": {
        "id": "XpdQuwvk7MB0"
      }
    },
    {
      "cell_type": "code",
      "source": [
        "seasonCount = Curry_data['season'][6:]\n",
        "colorList = ['mediumorchid','khaki','palegreen','deeppink','orange','teal','royalblue']\n",
        "print(seasonCount)\n",
        "# typeCount\n",
        "fig, ax = plt.subplots(figsize=(7,7))\n",
        "\n",
        "ax.pie(\n",
        "      Curry_data['pts'][6:], labels = seasonCount,\n",
        "       shadow = True,\n",
        "       explode = (0, 0.1, 0, 0, 0, 0, 0),\n",
        "       autopct = '%1.1f%%', colors = colorList)\n",
        "    \n",
        "ax.legend()\n",
        "\n",
        "#draw white circle in the middle\n",
        "\n",
        "\n",
        "plt.show()"
      ],
      "metadata": {
        "id": "OW3P4LBwkkuQ",
        "colab": {
          "base_uri": "https://localhost:8080/",
          "height": 557
        },
        "outputId": "78d3bc75-2205-42a1-83d1-b30f36d2f3d1"
      },
      "execution_count": null,
      "outputs": [
        {
          "output_type": "stream",
          "name": "stdout",
          "text": [
            "8739     2015-16\n",
            "9182     2016-17\n",
            "9877     2017-18\n",
            "10141    2018-19\n",
            "10869    2019-20\n",
            "11335    2020-21\n",
            "12024    2021-22\n",
            "Name: season, dtype: object\n"
          ]
        },
        {
          "output_type": "display_data",
          "data": {
            "text/plain": [
              "<Figure size 504x504 with 1 Axes>"
            ],
            "image/png": "[encoded data removed]"
          },
          "metadata": {}
        }
      ]
    },
    {
      "cell_type": "markdown",
      "source": [
        "## 로또 데이터\n",
        "아래 데이터는 로또 데이터입니다! 2022-12-07부터 2021-04-24 날짜의 로또번호를 담고있습니다! "
      ],
      "metadata": {
        "id": "y7NrVLUxiz3r"
      }
    },
    {
      "cell_type": "code",
      "source": [
        "df_lotto = pd.read_csv('https://raw.githubusercontent.com/wonseok-hong/DAP_TA/main/DATA_Korean_Lotto_20021207-20210424.csv')\n",
        "df_lotto"
      ],
      "metadata": {
        "id": "fnozlNSS4Nu2"
      },
      "execution_count": null,
      "outputs": []
    },
    {
      "cell_type": "markdown",
      "source": [
        "### 6. 여러 subplot에 barplot을 이용하여 그리기\n",
        "각각의 num에 어떤 숫자가 제일 많이 나왔는지 보기\n",
        "- boxplot을 이용하여 여러 subplot들을 만들어 한번에 그려주세요!\n",
        "- plot의 모든 x좌표 간격을 1칸씩으로 만들어주세요!\n",
        "- 각각의 plot마다 title을 달아주세요!"
      ],
      "metadata": {
        "id": "I9sGprwVok5U"
      }
    },
    {
      "cell_type": "code",
      "source": [
        "fig, ax = plt.subplots(2,3)\n",
        "fig.set_size_inches((35,10))\n",
        "plt.subplots_adjust(wspace=0.2,hspace=0.2)\n",
        "\n",
        "########### Make Code #####################\n",
        "\n",
        "\n",
        "\n",
        "###########################################\n",
        "\n",
        "plt.show()"
      ],
      "metadata": {
        "id": "4MP0w_808Re9"
      },
      "execution_count": null,
      "outputs": []
    },
    {
      "cell_type": "markdown",
      "source": [
        "### [optional] 로또 번호의 보너스 숫자는 원하는 plot들을 이용하여 자유롭게 만들어 보세요!"
      ],
      "metadata": {
        "id": "bD7H3M-BKGRw"
      }
    },
    {
      "cell_type": "code",
      "source": [
        "###########힘내세용##########"
      ],
      "metadata": {
        "id": "IP31mWnqJX60"
      },
      "execution_count": null,
      "outputs": []
    }
  ]
}